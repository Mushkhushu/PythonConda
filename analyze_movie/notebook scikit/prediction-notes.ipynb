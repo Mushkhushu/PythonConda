{
 "cells": [
  {
   "cell_type": "code",
   "id": "initial_id",
   "metadata": {
    "collapsed": true,
    "ExecuteTime": {
     "end_time": "2025-06-11T08:16:49.329169Z",
     "start_time": "2025-06-11T08:16:49.314147Z"
    }
   },
   "source": [
    "import pandas as pd\n",
    "import matplotlib.pyplot as plt\n",
    "import seaborn as sns\n",
    "\n",
    "\n",
    "# Notes réelles d'un élève\n",
    "real_notes = [15,18,14]\n",
    "\n",
    "# Notes prédites par ia\n",
    "predicted_notes = [14,17,13]\n",
    "\n",
    "# MSE: Mean Square Error\n",
    "errors = []\n",
    "    # 1. Calculer les erreurs dans la prédiction :\n",
    "for i in range(len(real_notes)):\n",
    "    # 2. Faire apparaitre les écarts entre les deux tableaux :\n",
    "    print(real_notes[i], predicted_notes[i])\n",
    "    # 3. Calculer cet écart pour chaque donnée :\n",
    "    error = real_notes[i] - predicted_notes[i]\n",
    "    print(f\"L'écart d'erreur est de : {error}\")\n",
    "    # 4. Stocker ces valeurs dans un tableau d'erreurs :\n",
    "    errors.append(error)\n",
    "\n",
    "# 5. Mettre au carré les erreurs pour toujours être en positif :\n",
    "erreur_carre = [e**2 for e in errors]\n",
    "\n",
    "# 5. Faire le mse : somme des racines carrées des erreurs / nb d'erreurs :\n",
    "mse = sum(erreur_carre)/len(erreur_carre)\n",
    "print(f\"MSE: {mse}\")"
   ],
   "outputs": [
    {
     "name": "stdout",
     "output_type": "stream",
     "text": [
      "15 14\n",
      "L'écart d'erreur est de : 1\n",
      "18 17\n",
      "L'écart d'erreur est de : 1\n",
      "14 13\n",
      "L'écart d'erreur est de : 1\n",
      "MSE: 1.0\n"
     ]
    }
   ],
   "execution_count": 3
  }
 ],
 "metadata": {
  "kernelspec": {
   "display_name": "Python 3",
   "language": "python",
   "name": "python3"
  },
  "language_info": {
   "codemirror_mode": {
    "name": "ipython",
    "version": 2
   },
   "file_extension": ".py",
   "mimetype": "text/x-python",
   "name": "python",
   "nbconvert_exporter": "python",
   "pygments_lexer": "ipython2",
   "version": "2.7.6"
  }
 },
 "nbformat": 4,
 "nbformat_minor": 5
}
