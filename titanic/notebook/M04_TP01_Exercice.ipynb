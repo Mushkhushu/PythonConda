{
 "cells": [
  {
   "cell_type": "markdown",
   "id": "395d61ec",
   "metadata": {},
   "source": [
    "# TP1 du module 4 : le travail sur les données.\n",
    "\n",
    "Dans ce TP, nous allons explorer plus en détails le jeu de données du Titanic. Objectifs :\n",
    "* Analyser des statistiques pour décrire les données\n",
    "* Produire des visualisations pertinentes pour la compréhesion des données.\n",
    "* Nettoyer le jeu de données\n",
    "* Préparer les données pour qu'elles soient prêtes à être fournies à un algorithme d'apprentissage."
   ]
  },
  {
   "cell_type": "code",
   "id": "5117092f",
   "metadata": {
    "ExecuteTime": {
     "end_time": "2025-06-12T07:40:46.443580Z",
     "start_time": "2025-06-12T07:40:44.389383Z"
    }
   },
   "source": [
    "# Ajoutez ici les imports de librairies nécessaires\n",
    "import sys\n",
    "import os\n",
    "import pandas as pd\n",
    "from sklearn.model_selection import train_test_split\n",
    "from sklearn.linear_model import LinearRegression\n",
    "from sklearn.compose import ColumnTransformer\n",
    "from sklearn.preprocessing import OneHotEncoder\n",
    "from sklearn.pipeline import Pipeline\n",
    "from sklearn.ensemble import RandomForestRegressor\n",
    "from sklearn.metrics import mean_squared_error"
   ],
   "outputs": [],
   "execution_count": 2
  },
  {
   "cell_type": "markdown",
   "id": "fde8da96",
   "metadata": {},
   "source": [
    "Commencez par recharger le jeu de données depuis un csv dans un dataframe Pandas. Rappel de l'adresse à laquelle vous pouvez le trouver : https://raw.githubusercontent.com/datasciencedojo/datasets/master/titanic.csv"
   ]
  },
  {
   "cell_type": "code",
   "id": "33fba6ca",
   "metadata": {
    "ExecuteTime": {
     "end_time": "2025-06-12T07:40:46.855876Z",
     "start_time": "2025-06-12T07:40:46.814483Z"
    }
   },
   "source": [
    "df = pd.read_csv('../data/raw/Titanic.csv')\n",
    "df.head()"
   ],
   "outputs": [
    {
     "data": {
      "text/plain": [
       "   Survived  Pclass   Age     Fare  Famille  Sex_male  Embarked_C  Embarked_Q  \\\n",
       "0         0       3  22.0   7.2500        1       1.0         0.0         0.0   \n",
       "1         1       1  38.0  71.2833        1       0.0         1.0         0.0   \n",
       "2         1       3  26.0   7.9250        0       0.0         0.0         0.0   \n",
       "3         1       1  35.0  53.1000        1       0.0         0.0         0.0   \n",
       "4         0       3  35.0   8.0500        0       1.0         0.0         0.0   \n",
       "\n",
       "   Embarked_S  Embarked_U  \n",
       "0         1.0         0.0  \n",
       "1         0.0         0.0  \n",
       "2         1.0         0.0  \n",
       "3         1.0         0.0  \n",
       "4         1.0         0.0  "
      ],
      "text/html": [
       "<div>\n",
       "<style scoped>\n",
       "    .dataframe tbody tr th:only-of-type {\n",
       "        vertical-align: middle;\n",
       "    }\n",
       "\n",
       "    .dataframe tbody tr th {\n",
       "        vertical-align: top;\n",
       "    }\n",
       "\n",
       "    .dataframe thead th {\n",
       "        text-align: right;\n",
       "    }\n",
       "</style>\n",
       "<table border=\"1\" class=\"dataframe\">\n",
       "  <thead>\n",
       "    <tr style=\"text-align: right;\">\n",
       "      <th></th>\n",
       "      <th>Survived</th>\n",
       "      <th>Pclass</th>\n",
       "      <th>Age</th>\n",
       "      <th>Fare</th>\n",
       "      <th>Famille</th>\n",
       "      <th>Sex_male</th>\n",
       "      <th>Embarked_C</th>\n",
       "      <th>Embarked_Q</th>\n",
       "      <th>Embarked_S</th>\n",
       "      <th>Embarked_U</th>\n",
       "    </tr>\n",
       "  </thead>\n",
       "  <tbody>\n",
       "    <tr>\n",
       "      <th>0</th>\n",
       "      <td>0</td>\n",
       "      <td>3</td>\n",
       "      <td>22.0</td>\n",
       "      <td>7.2500</td>\n",
       "      <td>1</td>\n",
       "      <td>1.0</td>\n",
       "      <td>0.0</td>\n",
       "      <td>0.0</td>\n",
       "      <td>1.0</td>\n",
       "      <td>0.0</td>\n",
       "    </tr>\n",
       "    <tr>\n",
       "      <th>1</th>\n",
       "      <td>1</td>\n",
       "      <td>1</td>\n",
       "      <td>38.0</td>\n",
       "      <td>71.2833</td>\n",
       "      <td>1</td>\n",
       "      <td>0.0</td>\n",
       "      <td>1.0</td>\n",
       "      <td>0.0</td>\n",
       "      <td>0.0</td>\n",
       "      <td>0.0</td>\n",
       "    </tr>\n",
       "    <tr>\n",
       "      <th>2</th>\n",
       "      <td>1</td>\n",
       "      <td>3</td>\n",
       "      <td>26.0</td>\n",
       "      <td>7.9250</td>\n",
       "      <td>0</td>\n",
       "      <td>0.0</td>\n",
       "      <td>0.0</td>\n",
       "      <td>0.0</td>\n",
       "      <td>1.0</td>\n",
       "      <td>0.0</td>\n",
       "    </tr>\n",
       "    <tr>\n",
       "      <th>3</th>\n",
       "      <td>1</td>\n",
       "      <td>1</td>\n",
       "      <td>35.0</td>\n",
       "      <td>53.1000</td>\n",
       "      <td>1</td>\n",
       "      <td>0.0</td>\n",
       "      <td>0.0</td>\n",
       "      <td>0.0</td>\n",
       "      <td>1.0</td>\n",
       "      <td>0.0</td>\n",
       "    </tr>\n",
       "    <tr>\n",
       "      <th>4</th>\n",
       "      <td>0</td>\n",
       "      <td>3</td>\n",
       "      <td>35.0</td>\n",
       "      <td>8.0500</td>\n",
       "      <td>0</td>\n",
       "      <td>1.0</td>\n",
       "      <td>0.0</td>\n",
       "      <td>0.0</td>\n",
       "      <td>1.0</td>\n",
       "      <td>0.0</td>\n",
       "    </tr>\n",
       "  </tbody>\n",
       "</table>\n",
       "</div>"
      ]
     },
     "execution_count": 3,
     "metadata": {},
     "output_type": "execute_result"
    }
   ],
   "execution_count": 3
  },
  {
   "cell_type": "markdown",
   "id": "205f765d",
   "metadata": {},
   "source": [
    "## Exploration du jeu de données\n",
    "\n",
    "Commencez par répondre au question suivante. Prenez le temps de bien analyser vos réponses, afin de mieux vous familiariser avec le contenu du jeu de données.\n",
    "\n",
    "1. Combien de données dans le jeu de données Titanic ?"
   ]
  },
  {
   "cell_type": "code",
   "id": "4ee3884e",
   "metadata": {
    "ExecuteTime": {
     "end_time": "2025-06-12T07:41:19.823508Z",
     "start_time": "2025-06-12T07:41:19.793276Z"
    }
   },
   "source": [
    "# 891 entries, 0 to 890\n",
    "df.describe()"
   ],
   "outputs": [
    {
     "data": {
      "text/plain": [
       "         Survived      Pclass         Age        Fare     Famille    Sex_male  \\\n",
       "count  891.000000  891.000000  891.000000  891.000000  891.000000  891.000000   \n",
       "mean     0.383838    2.308642   29.318643   32.204208    0.904602    0.647587   \n",
       "std      0.486592    0.836071   13.281103   49.693429    1.613459    0.477990   \n",
       "min      0.000000    1.000000    0.420000    0.000000    0.000000    0.000000   \n",
       "25%      0.000000    2.000000   21.750000    7.910400    0.000000    0.000000   \n",
       "50%      0.000000    3.000000   26.507589   14.454200    0.000000    1.000000   \n",
       "75%      1.000000    3.000000   36.000000   31.000000    1.000000    1.000000   \n",
       "max      1.000000    3.000000   80.000000  512.329200   10.000000    1.000000   \n",
       "\n",
       "       Embarked_C  Embarked_Q  Embarked_S  Embarked_U  \n",
       "count  891.000000  891.000000  891.000000  891.000000  \n",
       "mean     0.188552    0.086420    0.722783    0.002245  \n",
       "std      0.391372    0.281141    0.447876    0.047351  \n",
       "min      0.000000    0.000000    0.000000    0.000000  \n",
       "25%      0.000000    0.000000    0.000000    0.000000  \n",
       "50%      0.000000    0.000000    1.000000    0.000000  \n",
       "75%      0.000000    0.000000    1.000000    0.000000  \n",
       "max      1.000000    1.000000    1.000000    1.000000  "
      ],
      "text/html": [
       "<div>\n",
       "<style scoped>\n",
       "    .dataframe tbody tr th:only-of-type {\n",
       "        vertical-align: middle;\n",
       "    }\n",
       "\n",
       "    .dataframe tbody tr th {\n",
       "        vertical-align: top;\n",
       "    }\n",
       "\n",
       "    .dataframe thead th {\n",
       "        text-align: right;\n",
       "    }\n",
       "</style>\n",
       "<table border=\"1\" class=\"dataframe\">\n",
       "  <thead>\n",
       "    <tr style=\"text-align: right;\">\n",
       "      <th></th>\n",
       "      <th>Survived</th>\n",
       "      <th>Pclass</th>\n",
       "      <th>Age</th>\n",
       "      <th>Fare</th>\n",
       "      <th>Famille</th>\n",
       "      <th>Sex_male</th>\n",
       "      <th>Embarked_C</th>\n",
       "      <th>Embarked_Q</th>\n",
       "      <th>Embarked_S</th>\n",
       "      <th>Embarked_U</th>\n",
       "    </tr>\n",
       "  </thead>\n",
       "  <tbody>\n",
       "    <tr>\n",
       "      <th>count</th>\n",
       "      <td>891.000000</td>\n",
       "      <td>891.000000</td>\n",
       "      <td>891.000000</td>\n",
       "      <td>891.000000</td>\n",
       "      <td>891.000000</td>\n",
       "      <td>891.000000</td>\n",
       "      <td>891.000000</td>\n",
       "      <td>891.000000</td>\n",
       "      <td>891.000000</td>\n",
       "      <td>891.000000</td>\n",
       "    </tr>\n",
       "    <tr>\n",
       "      <th>mean</th>\n",
       "      <td>0.383838</td>\n",
       "      <td>2.308642</td>\n",
       "      <td>29.318643</td>\n",
       "      <td>32.204208</td>\n",
       "      <td>0.904602</td>\n",
       "      <td>0.647587</td>\n",
       "      <td>0.188552</td>\n",
       "      <td>0.086420</td>\n",
       "      <td>0.722783</td>\n",
       "      <td>0.002245</td>\n",
       "    </tr>\n",
       "    <tr>\n",
       "      <th>std</th>\n",
       "      <td>0.486592</td>\n",
       "      <td>0.836071</td>\n",
       "      <td>13.281103</td>\n",
       "      <td>49.693429</td>\n",
       "      <td>1.613459</td>\n",
       "      <td>0.477990</td>\n",
       "      <td>0.391372</td>\n",
       "      <td>0.281141</td>\n",
       "      <td>0.447876</td>\n",
       "      <td>0.047351</td>\n",
       "    </tr>\n",
       "    <tr>\n",
       "      <th>min</th>\n",
       "      <td>0.000000</td>\n",
       "      <td>1.000000</td>\n",
       "      <td>0.420000</td>\n",
       "      <td>0.000000</td>\n",
       "      <td>0.000000</td>\n",
       "      <td>0.000000</td>\n",
       "      <td>0.000000</td>\n",
       "      <td>0.000000</td>\n",
       "      <td>0.000000</td>\n",
       "      <td>0.000000</td>\n",
       "    </tr>\n",
       "    <tr>\n",
       "      <th>25%</th>\n",
       "      <td>0.000000</td>\n",
       "      <td>2.000000</td>\n",
       "      <td>21.750000</td>\n",
       "      <td>7.910400</td>\n",
       "      <td>0.000000</td>\n",
       "      <td>0.000000</td>\n",
       "      <td>0.000000</td>\n",
       "      <td>0.000000</td>\n",
       "      <td>0.000000</td>\n",
       "      <td>0.000000</td>\n",
       "    </tr>\n",
       "    <tr>\n",
       "      <th>50%</th>\n",
       "      <td>0.000000</td>\n",
       "      <td>3.000000</td>\n",
       "      <td>26.507589</td>\n",
       "      <td>14.454200</td>\n",
       "      <td>0.000000</td>\n",
       "      <td>1.000000</td>\n",
       "      <td>0.000000</td>\n",
       "      <td>0.000000</td>\n",
       "      <td>1.000000</td>\n",
       "      <td>0.000000</td>\n",
       "    </tr>\n",
       "    <tr>\n",
       "      <th>75%</th>\n",
       "      <td>1.000000</td>\n",
       "      <td>3.000000</td>\n",
       "      <td>36.000000</td>\n",
       "      <td>31.000000</td>\n",
       "      <td>1.000000</td>\n",
       "      <td>1.000000</td>\n",
       "      <td>0.000000</td>\n",
       "      <td>0.000000</td>\n",
       "      <td>1.000000</td>\n",
       "      <td>0.000000</td>\n",
       "    </tr>\n",
       "    <tr>\n",
       "      <th>max</th>\n",
       "      <td>1.000000</td>\n",
       "      <td>3.000000</td>\n",
       "      <td>80.000000</td>\n",
       "      <td>512.329200</td>\n",
       "      <td>10.000000</td>\n",
       "      <td>1.000000</td>\n",
       "      <td>1.000000</td>\n",
       "      <td>1.000000</td>\n",
       "      <td>1.000000</td>\n",
       "      <td>1.000000</td>\n",
       "    </tr>\n",
       "  </tbody>\n",
       "</table>\n",
       "</div>"
      ]
     },
     "execution_count": 4,
     "metadata": {},
     "output_type": "execute_result"
    }
   ],
   "execution_count": 4
  },
  {
   "metadata": {
    "ExecuteTime": {
     "end_time": "2025-06-12T07:41:39.050073Z",
     "start_time": "2025-06-12T07:41:39.029121Z"
    }
   },
   "cell_type": "code",
   "source": "df.info()",
   "id": "c1f0e1563ccc7431",
   "outputs": [
    {
     "name": "stdout",
     "output_type": "stream",
     "text": [
      "<class 'pandas.core.frame.DataFrame'>\n",
      "RangeIndex: 891 entries, 0 to 890\n",
      "Data columns (total 10 columns):\n",
      " #   Column      Non-Null Count  Dtype  \n",
      "---  ------      --------------  -----  \n",
      " 0   Survived    891 non-null    int64  \n",
      " 1   Pclass      891 non-null    int64  \n",
      " 2   Age         891 non-null    float64\n",
      " 3   Fare        891 non-null    float64\n",
      " 4   Famille     891 non-null    int64  \n",
      " 5   Sex_male    891 non-null    float64\n",
      " 6   Embarked_C  891 non-null    float64\n",
      " 7   Embarked_Q  891 non-null    float64\n",
      " 8   Embarked_S  891 non-null    float64\n",
      " 9   Embarked_U  891 non-null    float64\n",
      "dtypes: float64(7), int64(3)\n",
      "memory usage: 69.7 KB\n"
     ]
    }
   ],
   "execution_count": 5
  },
  {
   "cell_type": "markdown",
   "id": "74f32328",
   "metadata": {},
   "source": [
    "2. Combien d'attributs compte le jeu de données ?"
   ]
  },
  {
   "cell_type": "code",
   "execution_count": null,
   "id": "80eeccc3",
   "metadata": {},
   "outputs": [],
   "source": "# il y a 10 columns"
  },
  {
   "cell_type": "markdown",
   "id": "819573a7",
   "metadata": {},
   "source": [
    "3. Identifiez quelles colonnes contiennent des données discrètes, et lesquelles contiennent des données continues."
   ]
  },
  {
   "cell_type": "code",
   "execution_count": null,
   "id": "87aa38a1",
   "metadata": {},
   "outputs": [],
   "source": "# que des données numériques (données continues), pas de données discrètes"
  },
  {
   "cell_type": "markdown",
   "id": "59733c69",
   "metadata": {},
   "source": [
    "4. De la même manière, identifiez les colonnes de données qualitatives, et celles de données quantitatives."
   ]
  },
  {
   "cell_type": "code",
   "execution_count": null,
   "id": "67230396",
   "metadata": {},
   "outputs": [],
   "source": "# que des données quantitatives car numériques, pas de textuelles/qualitatives"
  },
  {
   "cell_type": "markdown",
   "id": "69c4bee2",
   "metadata": {},
   "source": [
    "5. Affichez les statistiques de base sur les colonnes quantitatives du dataset. \n",
    "Quelles informations pouvez-vous en retirer ? Pour chaque attribut, cherchez au moins une information pertinente que vous pouvez déduire de vos observations."
   ]
  },
  {
   "cell_type": "code",
   "execution_count": null,
   "id": "82ebfbb6",
   "metadata": {},
   "outputs": [],
   "source": []
  },
  {
   "cell_type": "markdown",
   "id": "46384afa",
   "metadata": {},
   "source": [
    "6. Sur une figure avec 6 sous-figures, proposez un histogramme pour visualiser la répartition des valeurs sur les attributs suivants : Survived, Pclass, Sex, Embarked, Age, Fare. Pour chaque figure, quelle(s) observation(s) pouvez-vous faire ?"
   ]
  },
  {
   "cell_type": "code",
   "execution_count": null,
   "id": "94ddbac5",
   "metadata": {},
   "outputs": [],
   "source": []
  },
  {
   "cell_type": "markdown",
   "id": "620fbbba",
   "metadata": {},
   "source": [
    "7. Sur un même graphique, représentez, pour chaque genre, le nombre de personnes ayant survécu. Que pouvez-vous en déduire ? Le genre d'un passager vous parait-il pertinent pour qu'un modèle d'apprentissage puisse prédire si ce passager a survécu ?"
   ]
  },
  {
   "cell_type": "code",
   "execution_count": null,
   "id": "f58cb499",
   "metadata": {},
   "outputs": [],
   "source": []
  },
  {
   "cell_type": "markdown",
   "id": "412e2e95",
   "metadata": {},
   "source": [
    "8. En vous basant sur une visualisation, observez-vous une corrélation entre certains attributs ? Que pouvez-vous en déduire pour un futur modèle d'apprentissage ?"
   ]
  },
  {
   "cell_type": "code",
   "execution_count": null,
   "id": "48d8ee62",
   "metadata": {},
   "outputs": [],
   "source": []
  },
  {
   "cell_type": "markdown",
   "id": "ae39b80c",
   "metadata": {},
   "source": [
    "9. En vous basant sur vos observations de la visualisation précédente, confirmez vos impressions en proposant deux visualisations. Par exemple, si vous avez observé une corrélation entre un attribut A et un attribut B, mettez en valeur le fait que les mêmes valeurs de A sont souvent trouvées avec les mêmes valeurs de B. "
   ]
  },
  {
   "cell_type": "code",
   "execution_count": null,
   "id": "987a4b5f",
   "metadata": {},
   "outputs": [],
   "source": []
  },
  {
   "cell_type": "code",
   "execution_count": null,
   "id": "9d66606a",
   "metadata": {},
   "outputs": [],
   "source": []
  },
  {
   "cell_type": "markdown",
   "id": "67adc89f",
   "metadata": {},
   "source": [
    "10. Mettez-vous à présent dans le rôle d'un data analyst face à un nouveau jeu de données : quelles autres visualisations vous paraissent nécessaires ? Proposez au moins trois visualisations qui vous semblent pertinentes. Gardez en tête que l'objectif sur ce jeu de données sera de réussir à prédire si un passager à survécu ou non."
   ]
  },
  {
   "cell_type": "markdown",
   "id": "081aafe5",
   "metadata": {},
   "source": [
    "## Nettoyage des données\n",
    "1. Pour chaque colonne, comptez le nombre de valeurs nulles."
   ]
  },
  {
   "cell_type": "code",
   "execution_count": null,
   "id": "ba42c62a",
   "metadata": {},
   "outputs": [],
   "source": []
  },
  {
   "cell_type": "markdown",
   "id": "e5bc166d",
   "metadata": {},
   "source": [
    "### Traitement du port d'embarquement\n",
    "\n",
    "2. Les valeurs manquantes du port d'embarquement sont très peu nombreuses. De plus, s'agissant d'un attribut discret, nous pouvons considérer l'information de valeur nulle comme une valeur possible supplémentaire. Commencer par affichez les lignes pour lesquelles le port d'embarquement n'est pas renseigné."
   ]
  },
  {
   "cell_type": "code",
   "execution_count": null,
   "id": "5219c39a",
   "metadata": {},
   "outputs": [],
   "source": []
  },
  {
   "cell_type": "markdown",
   "id": "363787e8",
   "metadata": {},
   "source": [
    "3. Remplacez ces valeurs nulles par la valeur 'U' (pour unknown). Vérifiez vos résultats en réaffichant les lignes obtenues ci-dessus :"
   ]
  },
  {
   "cell_type": "code",
   "execution_count": null,
   "id": "2be8a958",
   "metadata": {},
   "outputs": [],
   "source": []
  },
  {
   "cell_type": "markdown",
   "id": "a5e22413",
   "metadata": {},
   "source": [
    "### Traitement du numéro de cabine\n",
    "\n",
    "4. Le numéro de cabine est l'attribut qui contient le plus de valeurs nulles. Cet attribut n'a pas de lien évident avec la survie des passagers. Supprimer cette colonne dans votre dataframe."
   ]
  },
  {
   "cell_type": "code",
   "execution_count": null,
   "id": "aef1705c",
   "metadata": {},
   "outputs": [],
   "source": []
  },
  {
   "cell_type": "markdown",
   "id": "112f1631",
   "metadata": {},
   "source": [
    "### Traitement de l'âge\n",
    "5. L'âge est un attribut plus délicat à traiter : il contient un nombre conséquent de valeur nulle, mais il est très pertinent à prendre en compte pour la prédiction de la survie d'un passager, ces deux informations étant assez fortement corrélées. Il existe plein de stratégies pour remplacer ces valeurs manquantes :\n",
    "* Mettre une valeur aléatoire '(tirée entre le min et le max)\n",
    "* Remplacer par la moyenne\n",
    "* Remplacer par une valeur déterminée en fonction des autres paramètres (classe, age, etc)\n",
    "\n",
    "Commencer par calculer pour chaque genre et pour chaque classe, l'âge moyen (6 valeurs à obtenir au total)."
   ]
  },
  {
   "cell_type": "code",
   "execution_count": null,
   "id": "2b2a06ff",
   "metadata": {},
   "outputs": [],
   "source": []
  },
  {
   "cell_type": "markdown",
   "id": "e42013d7",
   "metadata": {},
   "source": [
    "6. Pour chaque ligne du jeu de données, si l'âge est manquant, remplacez la valeur nulle par une des valeurs calculées ci-dessus. basez-vous sur le genre et la classe du passager pour choisir la bonne valeur. "
   ]
  },
  {
   "cell_type": "code",
   "execution_count": null,
   "id": "3daa4cc6",
   "metadata": {},
   "outputs": [],
   "source": []
  },
  {
   "cell_type": "markdown",
   "id": "cf24aa8b",
   "metadata": {},
   "source": [
    "## Préparer les données\n",
    "\n",
    "Nous entrons dans la dernière phase de traitement des données : nous allons terminer des les mettre en forme, pour qu'elles soient prêtes à être manipulées dans un processus d'apprentissage."
   ]
  },
  {
   "cell_type": "markdown",
   "id": "f2ab2605",
   "metadata": {},
   "source": [
    "# Encodage des données catégorielles\n",
    "\n",
    "1. Réaffichez les infos sur le jeu de données. Vous devez avoir 11 colonnes, toutes remplies avec 891 valeurs."
   ]
  },
  {
   "cell_type": "code",
   "execution_count": null,
   "id": "3ac1186f",
   "metadata": {},
   "outputs": [],
   "source": []
  },
  {
   "cell_type": "markdown",
   "id": "a62f568e",
   "metadata": {},
   "source": [
    "2. Trois colonnes sont liées à l'identification unique d'un passager, et ne sont pas pertinentes pour la prédiction de la survie. Supprimez ces trois colonnes de votre jeu de données."
   ]
  },
  {
   "cell_type": "code",
   "execution_count": null,
   "id": "a4b7d99c",
   "metadata": {},
   "outputs": [],
   "source": []
  },
  {
   "cell_type": "markdown",
   "id": "9126e8f9",
   "metadata": {},
   "source": [
    "3. Reproduisez une manipulation vue au module 3 : combinez deux colonnes relatives aux familles de passagers pour n'en faire plus qu'une. Pensez à supprimer les deux anciennes colonnes."
   ]
  },
  {
   "cell_type": "code",
   "execution_count": null,
   "id": "ad70a5d5",
   "metadata": {
    "scrolled": true
   },
   "outputs": [],
   "source": []
  },
  {
   "cell_type": "markdown",
   "id": "a96edd21",
   "metadata": {},
   "source": [
    "4. Parmi les colonnes restantes, sur lesquelles un encodage one-hot vous semble pertinent ? En vous appuyant sur [la documentation de scikit-learn](https://scikit-learn.org/stable/modules/generated/sklearn.preprocessing.OneHotEncoder.html), appliquez cet encodage aux colonnes identifiées. Enfin, pensez à supprimer les anciennes colonnes.\n",
    "\n",
    "Note : pour le genre, il n'y a que deux possibilités dans ce jeu de données. Avec l'option `if_binary` de l'encodeur, vous pouvez ne générer qu'une seule colonne (l'autre s'obtenant immédiatement par déduction)."
   ]
  },
  {
   "cell_type": "code",
   "execution_count": null,
   "id": "1316c770",
   "metadata": {},
   "outputs": [],
   "source": []
  },
  {
   "cell_type": "markdown",
   "id": "439cb51a",
   "metadata": {},
   "source": [
    "5. Vous devez à présent avoir un jeu de données sur 10 attributs, tous numériques (`int64` ou `float64`), sans aucune valeur nulle. Enregistrer ce jeu de données au format csv, afin de pouvoir le réutiliser par la suite. Il est inutile de sauvegarder l'index présent dans le dataframe."
   ]
  },
  {
   "cell_type": "code",
   "execution_count": null,
   "id": "363a15e3",
   "metadata": {},
   "outputs": [],
   "source": []
  },
  {
   "cell_type": "markdown",
   "id": "91ccfd1f",
   "metadata": {},
   "source": [
    "# Fin du TP !"
   ]
  }
 ],
 "metadata": {
  "kernelspec": {
   "display_name": "Python 3 (ipykernel)",
   "language": "python",
   "name": "python3"
  },
  "language_info": {
   "codemirror_mode": {
    "name": "ipython",
    "version": 3
   },
   "file_extension": ".py",
   "mimetype": "text/x-python",
   "name": "python",
   "nbconvert_exporter": "python",
   "pygments_lexer": "ipython3",
   "version": "3.11.7"
  }
 },
 "nbformat": 4,
 "nbformat_minor": 5
}
