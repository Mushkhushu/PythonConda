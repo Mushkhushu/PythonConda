{
 "cells": [
  {
   "cell_type": "code",
   "id": "initial_id",
   "metadata": {
    "collapsed": true,
    "ExecuteTime": {
     "end_time": "2025-06-10T12:09:39.521811Z",
     "start_time": "2025-06-10T12:09:39.510456Z"
    }
   },
   "source": [
    "import pandas as pd\n",
    "\n",
    "# lire le .CSV avec .read_csv('PATH')\n",
    "csv = pd.read_csv('D:/PythonIASpace/PythonConda/analyze_movie/data/movies.csv')\n",
    "\n",
    "# .describe() pour avoir des moyennes des données numériques\n",
    "csv.describe()\n",
    "\n",
    "# .info() pour avoir les infos concernant les données, les colonnes, les types et la taille totale\n",
    "csv.info()"
   ],
   "outputs": [
    {
     "name": "stdout",
     "output_type": "stream",
     "text": [
      "<class 'pandas.core.frame.DataFrame'>\n",
      "RangeIndex: 20 entries, 0 to 19\n",
      "Data columns (total 5 columns):\n",
      " #   Column    Non-Null Count  Dtype \n",
      "---  ------    --------------  ----- \n",
      " 0   Title     20 non-null     object\n",
      " 1   Genre     20 non-null     object\n",
      " 2   Plot      20 non-null     object\n",
      " 3   Duration  20 non-null     int64 \n",
      " 4   Director  20 non-null     object\n",
      "dtypes: int64(1), object(4)\n",
      "memory usage: 932.0+ bytes\n"
     ]
    }
   ],
   "execution_count": 16
  }
 ],
 "metadata": {
  "kernelspec": {
   "display_name": "Python 3",
   "language": "python",
   "name": "python3"
  },
  "language_info": {
   "codemirror_mode": {
    "name": "ipython",
    "version": 2
   },
   "file_extension": ".py",
   "mimetype": "text/x-python",
   "name": "python",
   "nbconvert_exporter": "python",
   "pygments_lexer": "ipython2",
   "version": "2.7.6"
  }
 },
 "nbformat": 4,
 "nbformat_minor": 5
}
