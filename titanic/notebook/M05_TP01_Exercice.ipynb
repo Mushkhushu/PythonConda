{
 "cells": [
  {
   "cell_type": "markdown",
   "id": "fd78eddb",
   "metadata": {},
   "source": [
    "# TP1 du module 5 : l'apprentissage supervisé\n",
    "\n",
    "Dans ce TP, nous allons mettre en pratique les principes de l'apprentissage supervisé. Objectifs :\n",
    "* Préparer des jeux de données pour l'apprentissage supervisé\n",
    "* Entraîner un modèle d'arbre de décision\n",
    "* Evaluer les performances d'un modèle de classification\n",
    "* Entraîner et évaluer un modèle de régression"
   ]
  },
  {
   "cell_type": "code",
   "execution_count": null,
   "id": "f423b9af",
   "metadata": {},
   "outputs": [],
   "source": [
    "# Ajoutez ici les imports de librairies nécessaires\n"
   ]
  },
  {
   "cell_type": "markdown",
   "id": "5baf53df",
   "metadata": {},
   "source": [
    "## Création de modèles de classification pour le Titanic\n",
    "\n",
    "1. Commencez par recharger votre jeu de données sur le Titanic, à partir du csv que vous aviez enregistré à la fin du TP du module 4. Ainsi, vous obtenez un jeu de données déjà préparé pour l'apprentissage."
   ]
  },
  {
   "cell_type": "code",
   "execution_count": null,
   "id": "fb6a795c",
   "metadata": {},
   "outputs": [],
   "source": []
  },
  {
   "cell_type": "markdown",
   "id": "ca2175c6",
   "metadata": {},
   "source": [
    "2. Séparer vos données en mettant d'un côté les attributs, de l'autre la cible à prédire. Ensuite, séparer encore ces groupes entre entraînement et test (proportion de 0.2)"
   ]
  },
  {
   "cell_type": "code",
   "execution_count": null,
   "id": "eaf3faeb",
   "metadata": {},
   "outputs": [],
   "source": []
  },
  {
   "cell_type": "markdown",
   "id": "0fffa149",
   "metadata": {},
   "source": [
    "3. Créez un arbre de décision, sans option particulière pour l'instant. Entraînez-le, puis évaluez-le à l'aide de l'accuracy, sur les jeux de données crées ci-dessus. Comparez ce score avec le score moyen obtenu en effectuant une validation croisée sur l'ensemble du jeu de données."
   ]
  },
  {
   "cell_type": "code",
   "execution_count": null,
   "id": "75244332",
   "metadata": {},
   "outputs": [],
   "source": []
  },
  {
   "cell_type": "markdown",
   "id": "949b2215",
   "metadata": {},
   "source": [
    "4. Calculer également la précision et le rappel. Cherchez notamment dans la documentation comment indiquer laquelle des deux classes considérer comme la classe positive. Quelles observations pouvez-vous faire ?"
   ]
  },
  {
   "cell_type": "code",
   "execution_count": null,
   "id": "21576d9a",
   "metadata": {},
   "outputs": [],
   "source": []
  },
  {
   "cell_type": "markdown",
   "id": "43b14d19",
   "metadata": {},
   "source": [
    "**Observations :** il n'y a pas d'écart important entre accuracy, précision et rappel. Il semble donc qu'il n'y ait pas de déséquilibre notable au niveau des prédictions."
   ]
  },
  {
   "cell_type": "markdown",
   "id": "4ebfa508",
   "metadata": {},
   "source": [
    "5. Afficher la matrice de confusion pour cet arbre de décision, sur le jeu de test. Commencez par simplement l'afficher de manière textuelle, puis travailler votre affichage à l'aide de matplotlib afin d'ajouter des couleurs relatives au nombre d'éléments dans chaque case de la matrice."
   ]
  },
  {
   "cell_type": "code",
   "execution_count": null,
   "id": "0eadce28",
   "metadata": {},
   "outputs": [],
   "source": []
  },
  {
   "cell_type": "code",
   "execution_count": null,
   "id": "68993a30",
   "metadata": {},
   "outputs": [],
   "source": []
  },
  {
   "cell_type": "markdown",
   "id": "35152af4",
   "metadata": {},
   "source": [
    "6. Quelle est la profondeur de l'arbre de décision que vous avez créé ?"
   ]
  },
  {
   "cell_type": "code",
   "execution_count": null,
   "id": "8e11c4ce",
   "metadata": {},
   "outputs": [],
   "source": []
  },
  {
   "cell_type": "markdown",
   "id": "81749549",
   "metadata": {},
   "source": [
    "7. Créer un deuxième arbre de décision, en limitant sa profondeur à trois niveaux. Affichez son accuracy sur les données de test : que constatez-vous, et comment pouvez-vous l'expliquer ?"
   ]
  },
  {
   "cell_type": "code",
   "execution_count": null,
   "id": "37d8da95",
   "metadata": {},
   "outputs": [],
   "source": []
  },
  {
   "cell_type": "markdown",
   "id": "a6a60fc7",
   "metadata": {},
   "source": [
    "**Observation :** en limitant la profondeur de l'arbre, le score augmente. Cela est du au fait que limiter la profondeur de l'arbre permet d'éviter un phénomène de surapprentissage."
   ]
  },
  {
   "cell_type": "markdown",
   "id": "fa541c9a",
   "metadata": {},
   "source": [
    "8. Visualisez ce nouvel arbre de décision : prenez garde à bien faire apparaître les labels du jeu de données, et remplacez les valeurs 0 et 1 par des labels textuels de votre choix (ex : 'Died' et 'Survived'). Quelles observations pouvez-vous faire sur cet arbre ? Les décisions vous paraissent-elles cohérentes avec l'analyse des données faites dans le module 4 ?"
   ]
  },
  {
   "cell_type": "code",
   "execution_count": null,
   "id": "3db9ec07",
   "metadata": {},
   "outputs": [],
   "source": []
  },
  {
   "cell_type": "markdown",
   "id": "a7810558",
   "metadata": {},
   "source": [
    "9. Vous allez à présent comparer les performances d'arbre de profondeurs différentes. Créez différents arbre, en faisant varier la profondeur entre 1 et la profondeur trouvée à la question 6. Pour chaque arbre, calculer son score (accuracy) à l'aide d'une validation croisée à 5 feuilles. Sur un graphique, représentez l'évolution du score en fonction de la profondeur de l'arbre. \n",
    "Affichez également la profondeur pour lequel le score est maximal.\n",
    "Qu'observez-vous ?"
   ]
  },
  {
   "cell_type": "code",
   "execution_count": null,
   "id": "12852820",
   "metadata": {},
   "outputs": [],
   "source": []
  },
  {
   "cell_type": "markdown",
   "id": "14bb73c3",
   "metadata": {},
   "source": [
    "**Observation :** au départ, le score augmente avec la profondeur. Avec une profondeur trop basse, on a du sous-apprentissage. Mais ensuite, le score diminue alors que la profondeur augmente : on bascule dans du sur-apprentissage. Une profondeur de 5 semble donner les meilleurs résultats."
   ]
  },
  {
   "cell_type": "markdown",
   "id": "906f7111",
   "metadata": {},
   "source": [
    "10. Comparez deux critères pouvant être utilisé pour constuire l'arbre de décision : coefficient de gini et mesure d'entropie. Pour la profondeur de l'arbre,\n",
    "Avec un validation croisée, affichez sur un histogramme les trois valeurs moyennes obtenues. Voyez-vous un critère qui se détache des autres par ses performances ?"
   ]
  },
  {
   "cell_type": "code",
   "execution_count": null,
   "id": "bdfe567e",
   "metadata": {},
   "outputs": [],
   "source": []
  },
  {
   "cell_type": "markdown",
   "id": "0e718e4d",
   "metadata": {},
   "source": [
    "**Observations :** les performances des deux modèles ne présentent pas de différence pour le jeu de données du Titanic."
   ]
  },
  {
   "cell_type": "markdown",
   "id": "3819b10a",
   "metadata": {},
   "source": [
    "## Créer un modèle de regression\n",
    "\n",
    "Pour tester le concept de modèle de régression, nous ne pouvons pas utiliser le jeu de données sur le Titanic. A la place, nous allons nous intéresser à un jeu de données présentant l'évolution de la maladie chez des patients diabétiques. L'objectif sera de prédire l'évolution de la maladie en un an, en se basant sur des données mesurées un an avant. Ce jeu de données est directement disponible via la librairie scikit-learn. Documentation : https://scikit-learn.org/stable/modules/generated/sklearn.datasets.load_diabetes.html\n",
    "\n",
    "1. Commencez par charger les données dans deux dataframe : un pour les attributs, un pour la cible à prédire."
   ]
  },
  {
   "cell_type": "code",
   "execution_count": null,
   "id": "39d7c581",
   "metadata": {},
   "outputs": [],
   "source": []
  },
  {
   "cell_type": "markdown",
   "id": "971982f5",
   "metadata": {},
   "source": [
    "2. Affichez les premières lignes des attributs. Avez-vous bien repéré contenant la valeur à prédire ?"
   ]
  },
  {
   "cell_type": "code",
   "execution_count": null,
   "id": "3a508658",
   "metadata": {},
   "outputs": [],
   "source": []
  },
  {
   "cell_type": "markdown",
   "id": "9530d95f",
   "metadata": {},
   "source": [
    "3. Commencez par effectuer une régression linéaire, en prenant bien soin d'avoir des données d'entraînement et de test. Quelle erreur quadratique moyenne obtenez-vous ? Comment analysez-vous ce résultat ?"
   ]
  },
  {
   "cell_type": "code",
   "execution_count": null,
   "id": "8db48a4d",
   "metadata": {},
   "outputs": [],
   "source": []
  },
  {
   "cell_type": "markdown",
   "id": "9e99bcc0",
   "metadata": {},
   "source": [
    "4. Faites une représentation graphique des données réelles par rapport aux données prédites par le modèle : pour chaque attribut, représentez graphiquement les valeurs sur l'abscisse, et l'évolution de la maladie (réelle et prédite) sur les ordonnées. Colorez différement les données en fonction de si elles sont réelles ou prédites."
   ]
  },
  {
   "cell_type": "code",
   "execution_count": null,
   "id": "dd1f38e6",
   "metadata": {},
   "outputs": [],
   "source": []
  },
  {
   "cell_type": "markdown",
   "id": "cca8ad81",
   "metadata": {},
   "source": [
    "5. Sur un seul graphe, affichez les valeurs prédites en fonction des valeurs réelles. Tracez également la droite d'équation y=x. Quelles observations faites-vous ?"
   ]
  },
  {
   "cell_type": "code",
   "execution_count": null,
   "id": "36cc6ccc",
   "metadata": {},
   "outputs": [],
   "source": []
  },
  {
   "cell_type": "markdown",
   "id": "cd4c4dc8",
   "metadata": {},
   "source": [
    "6. Pour une régression linéaire, les valeurs sur les attributs sont cruciales. Par défaut lorsque vous avez chargé vos données avec Scikit-learn, celles-ci était normalisées. Rechargez-les en ajoutant l'option pour obtenir les données brutes. Affichez les premières lignes du dataset pour constater les différences de plage de valeurs."
   ]
  },
  {
   "cell_type": "code",
   "execution_count": null,
   "id": "07d7fce8",
   "metadata": {},
   "outputs": [],
   "source": []
  },
  {
   "cell_type": "markdown",
   "id": "655bd7ea",
   "metadata": {},
   "source": [
    "7. Réentraînez un modèle de régression linéaire sur ces données non normalisées? Que constatez-vous ?"
   ]
  },
  {
   "cell_type": "code",
   "execution_count": null,
   "id": "3650381a",
   "metadata": {},
   "outputs": [],
   "source": []
  },
  {
   "cell_type": "markdown",
   "id": "3f9fcf55",
   "metadata": {},
   "source": [
    "8. Proposez des modèles de régression polynomiale : tester plusieurs degrés de polynôme, entre 1 et 20. Pour chacun, calculez le score obtenu, et affichez-le. Représentez graphiquement l'évolution de l'erreur quadratique moyenne en fonction du degré du polynome.\n",
    "**Attention :** pour cet partie, réfléchissez aux données que vous voulez utiliser : normalisées ou non ?"
   ]
  },
  {
   "cell_type": "code",
   "execution_count": null,
   "id": "d8877d23",
   "metadata": {},
   "outputs": [],
   "source": []
  },
  {
   "cell_type": "markdown",
   "id": "cc404583",
   "metadata": {},
   "source": [
    "Constatez-vous une différence avec la régression linéaire simple ?"
   ]
  },
  {
   "cell_type": "markdown",
   "id": "e7341463",
   "metadata": {},
   "source": [
    "## Régression avec un arbre de décision\n",
    "\n",
    "Il est aussi possible d'utiliser les arbres de décision pour construire un modèle de régression. En utilisant la classe adéquate de scikit-learn, proposez un arbre de régression sur le jeu de données du diabètes. Prenez soin d'analyser la profondeur de l'arbre, afin de choisir celle qui vous parait la plus pertinente. Affichez l'arbre obtenant le meilleur score.\n",
    "\n",
    "Comparez les résultats obtenus avec ceux de la régression linéaire et de la régression polynomiale."
   ]
  },
  {
   "cell_type": "code",
   "execution_count": null,
   "id": "af19bd1f",
   "metadata": {},
   "outputs": [],
   "source": []
  },
  {
   "cell_type": "code",
   "execution_count": null,
   "id": "1fcfe5df",
   "metadata": {},
   "outputs": [],
   "source": []
  },
  {
   "cell_type": "code",
   "execution_count": null,
   "id": "888a47b2",
   "metadata": {},
   "outputs": [],
   "source": []
  }
 ],
 "metadata": {
  "kernelspec": {
   "display_name": "Python 3 (ipykernel)",
   "language": "python",
   "name": "python3"
  },
  "language_info": {
   "codemirror_mode": {
    "name": "ipython",
    "version": 3
   },
   "file_extension": ".py",
   "mimetype": "text/x-python",
   "name": "python",
   "nbconvert_exporter": "python",
   "pygments_lexer": "ipython3",
   "version": "3.9.16"
  }
 },
 "nbformat": 4,
 "nbformat_minor": 5
}
