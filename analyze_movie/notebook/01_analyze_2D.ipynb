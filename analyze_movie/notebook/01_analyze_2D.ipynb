{
 "cells": [
  {
   "metadata": {
    "ExecuteTime": {
     "end_time": "2025-06-10T10:17:59.910005Z",
     "start_time": "2025-06-10T10:17:59.901063Z"
    }
   },
   "cell_type": "code",
   "source": [
    "# Array 2D\n",
    "\n",
    "import numpy as np\n",
    "\n",
    "# faire un array 2D avec numpy pour tout avoir en un seul Array qui contient des arrays\n",
    "# traduction (lire horizontalement):\n",
    "# on doit deviner / présumer  le nom des colonnes un peu, c'est moins lisible\n",
    "#\n",
    "# Columns:  Titles          |   Genres      | Durations\n",
    "# --------------------------------------------------\n",
    "# Ligne0:   Teletubies      |    Comedy     | 26\n",
    "# Ligne1:   Sharknado       |   Nanar       | 146\n",
    "movies_data = np.array([\n",
    "    [\"Teletubies\", \"Skarknado\"],\n",
    "    [\"Comedy\", \"Nanar\"],\n",
    "    [26, 146]\n",
    "])\n",
    "\n",
    "\n",
    "# Afficher une ligne avec:  movies_data[:,0]\n",
    "print(f'Récupérer toutes les données de la première ligne avec movies_data[:,0] : {movies_data[:,0]}')\n",
    "print(f'Récupérer toutes les données de la deuxième ligne avec movies_data[:,1] : {movies_data[:,1]}')\n",
    "print('---------------------------------')\n",
    "# Afficher une colonne avec: movies_data[0]\n",
    "print(f'Récupérer toutes les données de la première colonne avec movies_data[0] : {movies_data[0]}')\n",
    "print('---------------------------------')\n",
    "# Afficher une donnée particulière\n",
    "print(f'Récupérer la colonne 1 de la ligne 1 avec movies_data[0,0] (# le titre du film 1) : {movies_data[0,0]}') # le titre du film 1\n",
    "print(f'Récupérer la colonne 3 de la ligne 1 avec movies_data[2,0] (# la durée du film 1) : {movies_data[2,0]}') # la durée du film 1\n",
    "\n",
    "# faire des constantes d'index pour s'y retrouver:\n",
    "COL_TITLE = 0\n",
    "COL_GENRE = 1\n",
    "COL_DURATION = 2\n",
    "\n",
    "# et les utiliser BIEN PLUS LISIBLE:\n",
    "print(f'Récupérer la colonne 1 de la ligne 1 avec movies_data[COL_TITLE,0] (# le titre du film 1) : {movies_data[COL_TITLE,0]}')\n",
    "print(f'Récupérer la colonne 3 de la ligne 1 avec movies_data[COL_DURATION,0] (# la durée du film 1) : {movies_data[COL_DURATION,0]}')\n",
    "print('---------------------------------')\n",
    "# faire des moyennes: afficher la durée la plus longue avec Numpy dans un Array 2D\n",
    "max_duration = np.max(movies_data[COL_DURATION,:].astype(int))\n",
    "# penser au typage avec .astype(int) because numpy est en int64 et que notre tableau initial est mixte\n",
    "print(\"penser au typage avec .astype(int) pour convertir en int64, ce que numpy utilise\")\n",
    "print(f'Récupérer la durée la plus longue de tous les films : avec np.maxmovies_data[COL_DURATION,:].astype(int).max() : {movies_data[COL_DURATION,:].astype(int).max()} minutes')\n",
    "print(f'Récupérer la durée la plus longue de tous les films : avec np.max(movies_data[COL_DURATION,:].astype(int)) : {max_duration} minutes')\n"
   ],
   "id": "initial_id",
   "outputs": [
    {
     "name": "stdout",
     "output_type": "stream",
     "text": [
      "Récupérer toutes les données de la première ligne avec movies_data[:,0] : ['Teletubies' 'Comedy' '26']\n",
      "Récupérer toutes les données de la deuxième ligne avec movies_data[:,1] : ['Skarknado' 'Nanar' '146']\n",
      "---------------------------------\n",
      "Récupérer toutes les données de la première colonne avec movies_data[0] : ['Teletubies' 'Skarknado']\n",
      "---------------------------------\n",
      "Récupérer la colonne 1 de la ligne 1 avec movies_data[0,0] (# le titre du film 1) : Teletubies\n",
      "Récupérer la colonne 3 de la ligne 1 avec movies_data[2,0] (# la durée du film 1) : 26\n",
      "Récupérer la colonne 1 de la ligne 1 avec movies_data[COL_TITLE,0] (# le titre du film 1) : Teletubies\n",
      "Récupérer la colonne 3 de la ligne 1 avec movies_data[COL_DURATION,0] (# la durée du film 1) : 26\n",
      "---------------------------------\n",
      "penser au typage avec .astype(int) pour convertir en int64, ce que numpy utilise\n",
      "Récupérer la durée la plus longue de tous les films : avec np.maxmovies_data[COL_DURATION,:].astype(int).max() : 146 minutes\n",
      "Récupérer la durée la plus longue de tous les films : avec np.max(movies_data[COL_DURATION,:].astype(int)) : 146 minutes\n"
     ]
    }
   ],
   "execution_count": 32
  },
  {
   "metadata": {},
   "cell_type": "code",
   "outputs": [],
   "execution_count": null,
   "source": "",
   "id": "c3bfc96df6f6b1ce"
  }
 ],
 "metadata": {
  "kernelspec": {
   "display_name": "Python 3",
   "language": "python",
   "name": "python3"
  },
  "language_info": {
   "codemirror_mode": {
    "name": "ipython",
    "version": 2
   },
   "file_extension": ".py",
   "mimetype": "text/x-python",
   "name": "python",
   "nbconvert_exporter": "python",
   "pygments_lexer": "ipython2",
   "version": "2.7.6"
  }
 },
 "nbformat": 4,
 "nbformat_minor": 5
}
