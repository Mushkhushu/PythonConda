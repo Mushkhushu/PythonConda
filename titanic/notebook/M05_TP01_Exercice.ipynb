{
 "cells": [
  {
   "cell_type": "markdown",
   "id": "fd78eddb",
   "metadata": {},
   "source": [
    "# TP1 du module 5 : l'apprentissage supervisé\n",
    "\n",
    "Dans ce TP, nous allons mettre en pratique les principes de l'apprentissage supervisé. Objectifs :\n",
    "* Préparer des jeux de données pour l'apprentissage supervisé\n",
    "* Entraîner un modèle d'arbre de décision\n",
    "* Evaluer les performances d'un modèle de classification\n",
    "* Entraîner et évaluer un modèle de régression"
   ]
  },
  {
   "cell_type": "code",
   "id": "f423b9af",
   "metadata": {
    "ExecuteTime": {
     "end_time": "2025-06-12T14:50:41.884673Z",
     "start_time": "2025-06-12T14:50:41.880936Z"
    }
   },
   "source": [
    "# Ajoutez ici les imports de librairies nécessaires\n",
    "import pandas as pd\n",
    "import matplotlib.pyplot as plt\n",
    "import seaborn as sns\n",
    "from sklearn.model_selection import train_test_split\n",
    "from sklearn.tree import DecisionTreeClassifier\n",
    "from sklearn.metrics import accuracy_score\n",
    "from sklearn.model_selection import cross_val_score"
   ],
   "outputs": [],
   "execution_count": 21
  },
  {
   "cell_type": "markdown",
   "id": "5baf53df",
   "metadata": {},
   "source": [
    "## Création de modèles de classification pour le Titanic\n",
    "\n",
    "1. Commencez par recharger votre jeu de données sur le Titanic, à partir du csv que vous aviez enregistré à la fin du TP du module 4. Ainsi, vous obtenez un jeu de données déjà préparé pour l'apprentissage."
   ]
  },
  {
   "cell_type": "code",
   "id": "fb6a795c",
   "metadata": {
    "ExecuteTime": {
     "end_time": "2025-06-12T14:50:41.917771Z",
     "start_time": "2025-06-12T14:50:41.907621Z"
    }
   },
   "source": [
    "df = pd.read_csv('../data/processed/titanic.clean.csv')\n",
    "df.info()"
   ],
   "outputs": [
    {
     "name": "stdout",
     "output_type": "stream",
     "text": [
      "<class 'pandas.core.frame.DataFrame'>\n",
      "RangeIndex: 891 entries, 0 to 890\n",
      "Data columns (total 10 columns):\n",
      " #   Column        Non-Null Count  Dtype  \n",
      "---  ------        --------------  -----  \n",
      " 0   Survived      891 non-null    int64  \n",
      " 1   Pclass        891 non-null    int64  \n",
      " 2   Age           891 non-null    float64\n",
      " 3   SibSp         891 non-null    int64  \n",
      " 4   Parch         891 non-null    int64  \n",
      " 5   Sex_male      891 non-null    float64\n",
      " 6   Embarked_C    891 non-null    float64\n",
      " 7   Embarked_Q    891 non-null    float64\n",
      " 8   Embarked_S    891 non-null    float64\n",
      " 9   Embarked_nan  891 non-null    float64\n",
      "dtypes: float64(6), int64(4)\n",
      "memory usage: 69.7 KB\n"
     ]
    }
   ],
   "execution_count": 22
  },
  {
   "cell_type": "markdown",
   "id": "ca2175c6",
   "metadata": {},
   "source": [
    "2. Séparer vos données en mettant d'un côté les attributs, de l'autre la cible à prédire. Ensuite, séparer encore ces groupes entre entraînement et test (proportion de 0.2)"
   ]
  },
  {
   "cell_type": "code",
   "id": "eaf3faeb",
   "metadata": {
    "ExecuteTime": {
     "end_time": "2025-06-12T14:50:42.007883Z",
     "start_time": "2025-06-12T14:50:41.999613Z"
    }
   },
   "source": [
    "# x = les données sur lesquels s'appuyer\n",
    "x = df[['Pclass', 'Age', 'Sex_male']]\n",
    "\n",
    "# y = la prediction\n",
    "y = df['Survived']\n",
    "\n",
    "x_train, x_test, y_train, y_test = train_test_split(x, y, test_size=0.2, random_state=42)"
   ],
   "outputs": [],
   "execution_count": 23
  },
  {
   "cell_type": "markdown",
   "id": "0fffa149",
   "metadata": {},
   "source": [
    "3. Créez un arbre de décision, sans option particulière pour l'instant. Entraînez-le, puis évaluez-le à l'aide de l'accuracy, sur les jeux de données crées ci-dessus. Comparez ce score avec le score moyen obtenu en effectuant une validation croisée sur l'ensemble du jeu de données."
   ]
  },
  {
   "metadata": {},
   "cell_type": "code",
   "outputs": [],
   "execution_count": null,
   "source": "",
   "id": "39f3d236baf5db93"
  },
  {
   "cell_type": "code",
   "id": "75244332",
   "metadata": {
    "ExecuteTime": {
     "end_time": "2025-06-12T14:50:42.105551Z",
     "start_time": "2025-06-12T14:50:42.074003Z"
    }
   },
   "source": [
    "\n",
    "\n",
    "tree_1 = DecisionTreeClassifier()\n",
    "tree_1.fit(x_train, y_train)\n",
    "\n",
    "y_pred = tree_1.predict(x_test)\n",
    "test_accuracy = accuracy_score(y_test, y_pred) # 0.7709\n",
    "print(f\"Accuracy sur les données de test : {test_accuracy:.4f}\")\n",
    "\n",
    "cv_scores = cross_val_score(tree_1, x, y, cv=5)\n",
    "mean_cv_score = cv_scores.mean() # 0.7980\n",
    "print(f\"Accuracy moyenne par validation croisée : {mean_cv_score:.4f}\")\n",
    "\n",
    "# Overfitting: l'arbre est trop complexe, il faut en limiter la compléxité\n",
    "# ex : DecisionTreeClassifier(max_depth=3, min_samples_leaf=5, random_state=42)"
   ],
   "outputs": [
    {
     "name": "stdout",
     "output_type": "stream",
     "text": [
      "Accuracy sur les données de test : 0.7709\n",
      "Accuracy moyenne par validation croisée : 0.7980\n"
     ]
    }
   ],
   "execution_count": 24
  },
  {
   "cell_type": "markdown",
   "id": "949b2215",
   "metadata": {},
   "source": [
    "4. Calculer également la précision et le rappel. Cherchez notamment dans la documentation comment indiquer laquelle des deux classes considérer comme la classe positive. Quelles observations pouvez-vous faire ?"
   ]
  },
  {
   "cell_type": "code",
   "id": "21576d9a",
   "metadata": {
    "ExecuteTime": {
     "end_time": "2025-06-12T14:50:42.174105Z",
     "start_time": "2025-06-12T14:50:42.171485Z"
    }
   },
   "source": "",
   "outputs": [],
   "execution_count": null
  },
  {
   "cell_type": "markdown",
   "id": "43b14d19",
   "metadata": {},
   "source": [
    "**Observations :** il n'y a pas d'écart important entre accuracy, précision et rappel. Il semble donc qu'il n'y ait pas de déséquilibre notable au niveau des prédictions."
   ]
  },
  {
   "cell_type": "markdown",
   "id": "4ebfa508",
   "metadata": {},
   "source": [
    "5. Afficher la matrice de confusion pour cet arbre de décision, sur le jeu de test. Commencez par simplement l'afficher de manière textuelle, puis travailler votre affichage à l'aide de matplotlib afin d'ajouter des couleurs relatives au nombre d'éléments dans chaque case de la matrice."
   ]
  },
  {
   "cell_type": "code",
   "id": "0eadce28",
   "metadata": {
    "ExecuteTime": {
     "end_time": "2025-06-12T14:50:42.227745Z",
     "start_time": "2025-06-12T14:50:42.224742Z"
    }
   },
   "source": [],
   "outputs": [],
   "execution_count": null
  },
  {
   "cell_type": "code",
   "id": "68993a30",
   "metadata": {
    "ExecuteTime": {
     "end_time": "2025-06-12T14:50:42.277891Z",
     "start_time": "2025-06-12T14:50:42.275617Z"
    }
   },
   "source": [],
   "outputs": [],
   "execution_count": null
  },
  {
   "cell_type": "markdown",
   "id": "35152af4",
   "metadata": {},
   "source": [
    "6. Quelle est la profondeur de l'arbre de décision que vous avez créé ?"
   ]
  },
  {
   "cell_type": "code",
   "id": "8e11c4ce",
   "metadata": {
    "ExecuteTime": {
     "end_time": "2025-06-12T14:50:42.333205Z",
     "start_time": "2025-06-12T14:50:42.330161Z"
    }
   },
   "source": [],
   "outputs": [],
   "execution_count": null
  },
  {
   "cell_type": "markdown",
   "id": "81749549",
   "metadata": {},
   "source": [
    "7. Créer un deuxième arbre de décision, en limitant sa profondeur à trois niveaux. Affichez son accuracy sur les données de test : que constatez-vous, et comment pouvez-vous l'expliquer ?"
   ]
  },
  {
   "cell_type": "code",
   "id": "37d8da95",
   "metadata": {
    "ExecuteTime": {
     "end_time": "2025-06-12T14:50:42.388394Z",
     "start_time": "2025-06-12T14:50:42.386044Z"
    }
   },
   "source": [],
   "outputs": [],
   "execution_count": null
  },
  {
   "cell_type": "markdown",
   "id": "a6a60fc7",
   "metadata": {},
   "source": [
    "**Observation :** en limitant la profondeur de l'arbre, le score augmente. Cela est du au fait que limiter la profondeur de l'arbre permet d'éviter un phénomène de surapprentissage."
   ]
  },
  {
   "cell_type": "markdown",
   "id": "fa541c9a",
   "metadata": {},
   "source": [
    "8. Visualisez ce nouvel arbre de décision : prenez garde à bien faire apparaître les labels du jeu de données, et remplacez les valeurs 0 et 1 par des labels textuels de votre choix (ex : 'Died' et 'Survived'). Quelles observations pouvez-vous faire sur cet arbre ? Les décisions vous paraissent-elles cohérentes avec l'analyse des données faites dans le module 4 ?"
   ]
  },
  {
   "cell_type": "code",
   "id": "3db9ec07",
   "metadata": {
    "ExecuteTime": {
     "end_time": "2025-06-12T14:50:42.441837Z",
     "start_time": "2025-06-12T14:50:42.438799Z"
    }
   },
   "source": [],
   "outputs": [],
   "execution_count": null
  },
  {
   "cell_type": "markdown",
   "id": "a7810558",
   "metadata": {},
   "source": [
    "9. Vous allez à présent comparer les performances d'arbre de profondeurs différentes. Créez différents arbre, en faisant varier la profondeur entre 1 et la profondeur trouvée à la question 6. Pour chaque arbre, calculer son score (accuracy) à l'aide d'une validation croisée à 5 feuilles. Sur un graphique, représentez l'évolution du score en fonction de la profondeur de l'arbre. \n",
    "Affichez également la profondeur pour lequel le score est maximal.\n",
    "Qu'observez-vous ?"
   ]
  },
  {
   "cell_type": "code",
   "id": "12852820",
   "metadata": {
    "ExecuteTime": {
     "end_time": "2025-06-12T14:50:42.487181Z",
     "start_time": "2025-06-12T14:50:42.484682Z"
    }
   },
   "source": [],
   "outputs": [],
   "execution_count": null
  },
  {
   "cell_type": "markdown",
   "id": "14bb73c3",
   "metadata": {},
   "source": [
    "**Observation :** au départ, le score augmente avec la profondeur. Avec une profondeur trop basse, on a du sous-apprentissage. Mais ensuite, le score diminue alors que la profondeur augmente : on bascule dans du sur-apprentissage. Une profondeur de 5 semble donner les meilleurs résultats."
   ]
  },
  {
   "cell_type": "markdown",
   "id": "906f7111",
   "metadata": {},
   "source": [
    "10. Comparez deux critères pouvant être utilisé pour constuire l'arbre de décision : coefficient de gini et mesure d'entropie. Pour la profondeur de l'arbre,\n",
    "Avec un validation croisée, affichez sur un histogramme les trois valeurs moyennes obtenues. Voyez-vous un critère qui se détache des autres par ses performances ?"
   ]
  },
  {
   "cell_type": "code",
   "id": "bdfe567e",
   "metadata": {
    "ExecuteTime": {
     "end_time": "2025-06-12T14:50:42.537137Z",
     "start_time": "2025-06-12T14:50:42.535052Z"
    }
   },
   "source": [],
   "outputs": [],
   "execution_count": null
  },
  {
   "cell_type": "markdown",
   "id": "0e718e4d",
   "metadata": {},
   "source": [
    "**Observations :** les performances des deux modèles ne présentent pas de différence pour le jeu de données du Titanic."
   ]
  },
  {
   "cell_type": "markdown",
   "id": "3819b10a",
   "metadata": {},
   "source": [
    "## Créer un modèle de regression\n",
    "\n",
    "Pour tester le concept de modèle de régression, nous ne pouvons pas utiliser le jeu de données sur le Titanic. A la place, nous allons nous intéresser à un jeu de données présentant l'évolution de la maladie chez des patients diabétiques. L'objectif sera de prédire l'évolution de la maladie en un an, en se basant sur des données mesurées un an avant. Ce jeu de données est directement disponible via la librairie scikit-learn. Documentation : https://scikit-learn.org/stable/modules/generated/sklearn.datasets.load_diabetes.html\n",
    "\n",
    "1. Commencez par charger les données dans deux dataframe : un pour les attributs, un pour la cible à prédire."
   ]
  },
  {
   "cell_type": "code",
   "id": "39d7c581",
   "metadata": {
    "ExecuteTime": {
     "end_time": "2025-06-12T14:50:42.586891Z",
     "start_time": "2025-06-12T14:50:42.584012Z"
    }
   },
   "source": [],
   "outputs": [],
   "execution_count": null
  },
  {
   "cell_type": "markdown",
   "id": "971982f5",
   "metadata": {},
   "source": [
    "2. Affichez les premières lignes des attributs. Avez-vous bien repéré contenant la valeur à prédire ?"
   ]
  },
  {
   "cell_type": "code",
   "id": "3a508658",
   "metadata": {
    "ExecuteTime": {
     "end_time": "2025-06-12T14:50:42.631728Z",
     "start_time": "2025-06-12T14:50:42.629733Z"
    }
   },
   "source": [],
   "outputs": [],
   "execution_count": null
  },
  {
   "cell_type": "markdown",
   "id": "9530d95f",
   "metadata": {},
   "source": [
    "3. Commencez par effectuer une régression linéaire, en prenant bien soin d'avoir des données d'entraînement et de test. Quelle erreur quadratique moyenne obtenez-vous ? Comment analysez-vous ce résultat ?"
   ]
  },
  {
   "cell_type": "code",
   "id": "8db48a4d",
   "metadata": {
    "ExecuteTime": {
     "end_time": "2025-06-12T14:50:42.669250Z",
     "start_time": "2025-06-12T14:50:42.666280Z"
    }
   },
   "source": [],
   "outputs": [],
   "execution_count": null
  },
  {
   "cell_type": "markdown",
   "id": "9e99bcc0",
   "metadata": {},
   "source": [
    "4. Faites une représentation graphique des données réelles par rapport aux données prédites par le modèle : pour chaque attribut, représentez graphiquement les valeurs sur l'abscisse, et l'évolution de la maladie (réelle et prédite) sur les ordonnées. Colorez différement les données en fonction de si elles sont réelles ou prédites."
   ]
  },
  {
   "cell_type": "code",
   "id": "dd1f38e6",
   "metadata": {
    "ExecuteTime": {
     "end_time": "2025-06-12T14:50:42.715362Z",
     "start_time": "2025-06-12T14:50:42.712303Z"
    }
   },
   "source": [],
   "outputs": [],
   "execution_count": null
  },
  {
   "cell_type": "markdown",
   "id": "cca8ad81",
   "metadata": {},
   "source": [
    "5. Sur un seul graphe, affichez les valeurs prédites en fonction des valeurs réelles. Tracez également la droite d'équation y=x. Quelles observations faites-vous ?"
   ]
  },
  {
   "cell_type": "code",
   "id": "36cc6ccc",
   "metadata": {
    "ExecuteTime": {
     "end_time": "2025-06-12T14:50:42.757361Z",
     "start_time": "2025-06-12T14:50:42.753990Z"
    }
   },
   "source": [],
   "outputs": [],
   "execution_count": null
  },
  {
   "cell_type": "markdown",
   "id": "cd4c4dc8",
   "metadata": {},
   "source": [
    "6. Pour une régression linéaire, les valeurs sur les attributs sont cruciales. Par défaut lorsque vous avez chargé vos données avec Scikit-learn, celles-ci était normalisées. Rechargez-les en ajoutant l'option pour obtenir les données brutes. Affichez les premières lignes du dataset pour constater les différences de plage de valeurs."
   ]
  },
  {
   "cell_type": "code",
   "id": "07d7fce8",
   "metadata": {
    "ExecuteTime": {
     "end_time": "2025-06-12T14:50:42.822504Z",
     "start_time": "2025-06-12T14:50:42.819667Z"
    }
   },
   "source": [],
   "outputs": [],
   "execution_count": null
  },
  {
   "cell_type": "markdown",
   "id": "655bd7ea",
   "metadata": {},
   "source": [
    "7. Réentraînez un modèle de régression linéaire sur ces données non normalisées? Que constatez-vous ?"
   ]
  },
  {
   "cell_type": "code",
   "id": "3650381a",
   "metadata": {
    "ExecuteTime": {
     "end_time": "2025-06-12T14:50:42.876029Z",
     "start_time": "2025-06-12T14:50:42.873211Z"
    }
   },
   "source": [],
   "outputs": [],
   "execution_count": null
  },
  {
   "cell_type": "markdown",
   "id": "3f9fcf55",
   "metadata": {},
   "source": [
    "8. Proposez des modèles de régression polynomiale : tester plusieurs degrés de polynôme, entre 1 et 20. Pour chacun, calculez le score obtenu, et affichez-le. Représentez graphiquement l'évolution de l'erreur quadratique moyenne en fonction du degré du polynome.\n",
    "**Attention :** pour cet partie, réfléchissez aux données que vous voulez utiliser : normalisées ou non ?"
   ]
  },
  {
   "cell_type": "code",
   "id": "d8877d23",
   "metadata": {
    "ExecuteTime": {
     "end_time": "2025-06-12T14:50:42.922673Z",
     "start_time": "2025-06-12T14:50:42.919681Z"
    }
   },
   "source": [],
   "outputs": [],
   "execution_count": null
  },
  {
   "cell_type": "markdown",
   "id": "cc404583",
   "metadata": {},
   "source": [
    "Constatez-vous une différence avec la régression linéaire simple ?"
   ]
  },
  {
   "cell_type": "markdown",
   "id": "e7341463",
   "metadata": {},
   "source": [
    "## Régression avec un arbre de décision\n",
    "\n",
    "Il est aussi possible d'utiliser les arbres de décision pour construire un modèle de régression. En utilisant la classe adéquate de scikit-learn, proposez un arbre de régression sur le jeu de données du diabètes. Prenez soin d'analyser la profondeur de l'arbre, afin de choisir celle qui vous parait la plus pertinente. Affichez l'arbre obtenant le meilleur score.\n",
    "\n",
    "Comparez les résultats obtenus avec ceux de la régression linéaire et de la régression polynomiale."
   ]
  },
  {
   "cell_type": "code",
   "id": "af19bd1f",
   "metadata": {
    "ExecuteTime": {
     "end_time": "2025-06-12T14:50:42.963698Z",
     "start_time": "2025-06-12T14:50:42.961265Z"
    }
   },
   "source": [],
   "outputs": [],
   "execution_count": null
  },
  {
   "cell_type": "code",
   "id": "1fcfe5df",
   "metadata": {
    "ExecuteTime": {
     "end_time": "2025-06-12T14:50:43.019460Z",
     "start_time": "2025-06-12T14:50:43.017383Z"
    }
   },
   "source": [],
   "outputs": [],
   "execution_count": null
  },
  {
   "cell_type": "code",
   "id": "888a47b2",
   "metadata": {
    "ExecuteTime": {
     "end_time": "2025-06-12T14:50:43.064136Z",
     "start_time": "2025-06-12T14:50:43.061377Z"
    }
   },
   "source": [],
   "outputs": [],
   "execution_count": null
  }
 ],
 "metadata": {
  "kernelspec": {
   "display_name": "Python 3 (ipykernel)",
   "language": "python",
   "name": "python3"
  },
  "language_info": {
   "codemirror_mode": {
    "name": "ipython",
    "version": 3
   },
   "file_extension": ".py",
   "mimetype": "text/x-python",
   "name": "python",
   "nbconvert_exporter": "python",
   "pygments_lexer": "ipython3",
   "version": "3.9.16"
  }
 },
 "nbformat": 4,
 "nbformat_minor": 5
}
