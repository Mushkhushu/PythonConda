{
 "cells": [
  {
   "cell_type": "code",
   "id": "initial_id",
   "metadata": {
    "collapsed": true,
    "ExecuteTime": {
     "end_time": "2025-06-17T08:25:05.832425Z",
     "start_time": "2025-06-17T08:25:05.731038Z"
    }
   },
   "source": [
    "import sys\n",
    "import os\n",
    "import pandas as pd\n",
    "from sklearn.compose import ColumnTransformer\n",
    "from sklearn.preprocessing import OneHotEncoder\n",
    "import numpy as np\n",
    "from sklearn.tree import DecisionTreeClassifier, plot_tree\n",
    "from sklearn.pipeline import Pipeline\n",
    "\n",
    "sys.path.append(os.path.abspath(os.path.join(\"..\", \"src\")))\n",
    "\n",
    "df = pd.read_csv('../Data/Raw/Hotel Reservations.csv')\n",
    "\n",
    "df.info()"
   ],
   "outputs": [
    {
     "name": "stdout",
     "output_type": "stream",
     "text": [
      "<class 'pandas.core.frame.DataFrame'>\n",
      "RangeIndex: 29999 entries, 0 to 29998\n",
      "Data columns (total 19 columns):\n",
      " #   Column                                Non-Null Count  Dtype  \n",
      "---  ------                                --------------  -----  \n",
      " 0   Booking_ID                            29999 non-null  object \n",
      " 1   no_of_adults                          29999 non-null  int64  \n",
      " 2   no_of_children                        29999 non-null  int64  \n",
      " 3   no_of_weekend_nights                  29999 non-null  int64  \n",
      " 4   no_of_week_nights                     29999 non-null  int64  \n",
      " 5   type_of_meal_plan                     29999 non-null  object \n",
      " 6   required_car_parking_space            29999 non-null  int64  \n",
      " 7   room_type_reserved                    29999 non-null  object \n",
      " 8   lead_time                             29999 non-null  int64  \n",
      " 9   arrival_year                          29999 non-null  int64  \n",
      " 10  arrival_month                         29999 non-null  int64  \n",
      " 11  arrival_date                          29999 non-null  int64  \n",
      " 12  market_segment_type                   29999 non-null  object \n",
      " 13  repeated_guest                        29999 non-null  int64  \n",
      " 14  no_of_previous_cancellations          29999 non-null  int64  \n",
      " 15  no_of_previous_bookings_not_canceled  29999 non-null  int64  \n",
      " 16  avg_price_per_room                    29999 non-null  float64\n",
      " 17  no_of_special_requests                29999 non-null  int64  \n",
      " 18  booking_status                        29999 non-null  object \n",
      "dtypes: float64(1), int64(13), object(5)\n",
      "memory usage: 4.3+ MB\n"
     ]
    }
   ],
   "execution_count": 139
  },
  {
   "metadata": {
    "ExecuteTime": {
     "end_time": "2025-06-17T08:25:05.871584Z",
     "start_time": "2025-06-17T08:25:05.848535Z"
    }
   },
   "cell_type": "code",
   "source": [
    "df_clean = df.copy()\n",
    "df_clean.drop(['Booking_ID'], axis=1, inplace=True)\n",
    "\n",
    "df_clean.info()"
   ],
   "id": "51c1e95c9b762fba",
   "outputs": [
    {
     "name": "stdout",
     "output_type": "stream",
     "text": [
      "<class 'pandas.core.frame.DataFrame'>\n",
      "RangeIndex: 29999 entries, 0 to 29998\n",
      "Data columns (total 18 columns):\n",
      " #   Column                                Non-Null Count  Dtype  \n",
      "---  ------                                --------------  -----  \n",
      " 0   no_of_adults                          29999 non-null  int64  \n",
      " 1   no_of_children                        29999 non-null  int64  \n",
      " 2   no_of_weekend_nights                  29999 non-null  int64  \n",
      " 3   no_of_week_nights                     29999 non-null  int64  \n",
      " 4   type_of_meal_plan                     29999 non-null  object \n",
      " 5   required_car_parking_space            29999 non-null  int64  \n",
      " 6   room_type_reserved                    29999 non-null  object \n",
      " 7   lead_time                             29999 non-null  int64  \n",
      " 8   arrival_year                          29999 non-null  int64  \n",
      " 9   arrival_month                         29999 non-null  int64  \n",
      " 10  arrival_date                          29999 non-null  int64  \n",
      " 11  market_segment_type                   29999 non-null  object \n",
      " 12  repeated_guest                        29999 non-null  int64  \n",
      " 13  no_of_previous_cancellations          29999 non-null  int64  \n",
      " 14  no_of_previous_bookings_not_canceled  29999 non-null  int64  \n",
      " 15  avg_price_per_room                    29999 non-null  float64\n",
      " 16  no_of_special_requests                29999 non-null  int64  \n",
      " 17  booking_status                        29999 non-null  object \n",
      "dtypes: float64(1), int64(13), object(4)\n",
      "memory usage: 4.1+ MB\n"
     ]
    }
   ],
   "execution_count": 140
  },
  {
   "metadata": {
    "ExecuteTime": {
     "end_time": "2025-06-17T08:25:06.016989Z",
     "start_time": "2025-06-17T08:25:05.949719Z"
    }
   },
   "cell_type": "code",
   "source": [
    "encoder = OneHotEncoder(drop = 'if_binary')\n",
    "\n",
    "cols_encoded = encoder.fit_transform(df_clean[['type_of_meal_plan','room_type_reserved', 'market_segment_type','booking_status']])\n",
    "\n",
    "cols_encoded_array = cols_encoded.toarray()\n",
    "\n",
    "new_cols = np.array(cols_encoded_array)\n",
    "\n",
    "labels = encoder.get_feature_names_out(['type_of_meal_plan','room_type_reserved', 'market_segment_type','booking_status'])\n",
    "\n",
    "df_cols_encoded = pd.DataFrame(cols_encoded_array, columns=labels)\n",
    "\n",
    "df_cols_encoded = df_cols_encoded.astype(int)\n",
    "\n",
    "df_clean = df_clean.join(df_cols_encoded)\n",
    "\n",
    "df_clean.drop(['type_of_meal_plan','room_type_reserved', 'market_segment_type','booking_status'], axis=1, inplace=True)"
   ],
   "id": "ea200c686f131fc",
   "outputs": [],
   "execution_count": 141
  },
  {
   "metadata": {
    "ExecuteTime": {
     "end_time": "2025-06-17T08:25:06.068653Z",
     "start_time": "2025-06-17T08:25:06.054334Z"
    }
   },
   "cell_type": "code",
   "source": "df_clean.info()",
   "id": "1aa56dcfbbe662a9",
   "outputs": [
    {
     "name": "stdout",
     "output_type": "stream",
     "text": [
      "<class 'pandas.core.frame.DataFrame'>\n",
      "RangeIndex: 29999 entries, 0 to 29998\n",
      "Data columns (total 31 columns):\n",
      " #   Column                                Non-Null Count  Dtype  \n",
      "---  ------                                --------------  -----  \n",
      " 0   no_of_adults                          29999 non-null  int64  \n",
      " 1   no_of_children                        29999 non-null  int64  \n",
      " 2   no_of_weekend_nights                  29999 non-null  int64  \n",
      " 3   no_of_week_nights                     29999 non-null  int64  \n",
      " 4   required_car_parking_space            29999 non-null  int64  \n",
      " 5   lead_time                             29999 non-null  int64  \n",
      " 6   arrival_year                          29999 non-null  int64  \n",
      " 7   arrival_month                         29999 non-null  int64  \n",
      " 8   arrival_date                          29999 non-null  int64  \n",
      " 9   repeated_guest                        29999 non-null  int64  \n",
      " 10  no_of_previous_cancellations          29999 non-null  int64  \n",
      " 11  no_of_previous_bookings_not_canceled  29999 non-null  int64  \n",
      " 12  avg_price_per_room                    29999 non-null  float64\n",
      " 13  no_of_special_requests                29999 non-null  int64  \n",
      " 14  type_of_meal_plan_Meal Plan 1         29999 non-null  int32  \n",
      " 15  type_of_meal_plan_Meal Plan 2         29999 non-null  int32  \n",
      " 16  type_of_meal_plan_Meal Plan 3         29999 non-null  int32  \n",
      " 17  type_of_meal_plan_Not Selected        29999 non-null  int32  \n",
      " 18  room_type_reserved_Room_Type 1        29999 non-null  int32  \n",
      " 19  room_type_reserved_Room_Type 2        29999 non-null  int32  \n",
      " 20  room_type_reserved_Room_Type 3        29999 non-null  int32  \n",
      " 21  room_type_reserved_Room_Type 4        29999 non-null  int32  \n",
      " 22  room_type_reserved_Room_Type 5        29999 non-null  int32  \n",
      " 23  room_type_reserved_Room_Type 6        29999 non-null  int32  \n",
      " 24  room_type_reserved_Room_Type 7        29999 non-null  int32  \n",
      " 25  market_segment_type_Aviation          29999 non-null  int32  \n",
      " 26  market_segment_type_Complementary     29999 non-null  int32  \n",
      " 27  market_segment_type_Corporate         29999 non-null  int32  \n",
      " 28  market_segment_type_Offline           29999 non-null  int32  \n",
      " 29  market_segment_type_Online            29999 non-null  int32  \n",
      " 30  booking_status_Not_Canceled           29999 non-null  int32  \n",
      "dtypes: float64(1), int32(17), int64(13)\n",
      "memory usage: 5.1 MB\n"
     ]
    }
   ],
   "execution_count": 142
  },
  {
   "metadata": {
    "ExecuteTime": {
     "end_time": "2025-06-17T08:25:06.390288Z",
     "start_time": "2025-06-17T08:25:06.121257Z"
    }
   },
   "cell_type": "code",
   "source": [
    "room_type_cols = [\n",
    "    'room_type_reserved_Room_Type 1',\n",
    "    'room_type_reserved_Room_Type 2',\n",
    "    'room_type_reserved_Room_Type 3',\n",
    "    'room_type_reserved_Room_Type 4',\n",
    "    'room_type_reserved_Room_Type 5',\n",
    "    'room_type_reserved_Room_Type 6',\n",
    "    'room_type_reserved_Room_Type 7'\n",
    "]\n",
    "prix_moyen_par_type = {}\n",
    "\n",
    "for col in room_type_cols:\n",
    "    # Filtrer les lignes où ce type est réservé et prix > 0\n",
    "    mask = (df_clean[col] == 1) & (df_clean['avg_price_per_room'] > 0)\n",
    "    prix_moyen = df_clean.loc[mask, 'avg_price_per_room'].mean()\n",
    "    prix_moyen_par_type[col] = prix_moyen\n",
    "\n",
    "print(\"Prix moyen par type :\", prix_moyen_par_type)\n",
    "\n",
    "# Fonction pour remplacer les 0 par le prix moyen correspondant\n",
    "def remplacer_prix_moyen(row):\n",
    "    if row['avg_price_per_room'] == 0:\n",
    "        for col in room_type_cols:\n",
    "            if row[col] == 1:\n",
    "                return prix_moyen_par_type.get(col, np.nan)  # np.nan si pas trouvé\n",
    "        return np.nan  # Si aucun type trouvé (cas improbable)\n",
    "    else:\n",
    "        return row['avg_price_per_room']\n",
    "\n",
    "# Appliquer la fonction\n",
    "df_clean['avg_price_per_room'] = df_clean.apply(remplacer_prix_moyen, axis=1)"
   ],
   "id": "6f7ea4b221351ec8",
   "outputs": [
    {
     "name": "stdout",
     "output_type": "stream",
     "text": [
      "Prix moyen par type : {'room_type_reserved_Room_Type 1': 97.2727575083911, 'room_type_reserved_Room_Type 2': 90.51525754884547, 'room_type_reserved_Room_Type 3': 101.4375, 'room_type_reserved_Room_Type 4': 126.433105401578, 'room_type_reserved_Room_Type 5': 132.40153846153845, 'room_type_reserved_Room_Type 6': 185.78694656488548, 'room_type_reserved_Room_Type 7': 208.38780000000003}\n"
     ]
    }
   ],
   "execution_count": 143
  },
  {
   "metadata": {
    "ExecuteTime": {
     "end_time": "2025-06-17T08:25:06.444260Z",
     "start_time": "2025-06-17T08:25:06.429142Z"
    }
   },
   "cell_type": "code",
   "source": "df_clean.info()",
   "id": "a2fff9777f5342ec",
   "outputs": [
    {
     "name": "stdout",
     "output_type": "stream",
     "text": [
      "<class 'pandas.core.frame.DataFrame'>\n",
      "RangeIndex: 29999 entries, 0 to 29998\n",
      "Data columns (total 31 columns):\n",
      " #   Column                                Non-Null Count  Dtype  \n",
      "---  ------                                --------------  -----  \n",
      " 0   no_of_adults                          29999 non-null  int64  \n",
      " 1   no_of_children                        29999 non-null  int64  \n",
      " 2   no_of_weekend_nights                  29999 non-null  int64  \n",
      " 3   no_of_week_nights                     29999 non-null  int64  \n",
      " 4   required_car_parking_space            29999 non-null  int64  \n",
      " 5   lead_time                             29999 non-null  int64  \n",
      " 6   arrival_year                          29999 non-null  int64  \n",
      " 7   arrival_month                         29999 non-null  int64  \n",
      " 8   arrival_date                          29999 non-null  int64  \n",
      " 9   repeated_guest                        29999 non-null  int64  \n",
      " 10  no_of_previous_cancellations          29999 non-null  int64  \n",
      " 11  no_of_previous_bookings_not_canceled  29999 non-null  int64  \n",
      " 12  avg_price_per_room                    29999 non-null  float64\n",
      " 13  no_of_special_requests                29999 non-null  int64  \n",
      " 14  type_of_meal_plan_Meal Plan 1         29999 non-null  int32  \n",
      " 15  type_of_meal_plan_Meal Plan 2         29999 non-null  int32  \n",
      " 16  type_of_meal_plan_Meal Plan 3         29999 non-null  int32  \n",
      " 17  type_of_meal_plan_Not Selected        29999 non-null  int32  \n",
      " 18  room_type_reserved_Room_Type 1        29999 non-null  int32  \n",
      " 19  room_type_reserved_Room_Type 2        29999 non-null  int32  \n",
      " 20  room_type_reserved_Room_Type 3        29999 non-null  int32  \n",
      " 21  room_type_reserved_Room_Type 4        29999 non-null  int32  \n",
      " 22  room_type_reserved_Room_Type 5        29999 non-null  int32  \n",
      " 23  room_type_reserved_Room_Type 6        29999 non-null  int32  \n",
      " 24  room_type_reserved_Room_Type 7        29999 non-null  int32  \n",
      " 25  market_segment_type_Aviation          29999 non-null  int32  \n",
      " 26  market_segment_type_Complementary     29999 non-null  int32  \n",
      " 27  market_segment_type_Corporate         29999 non-null  int32  \n",
      " 28  market_segment_type_Offline           29999 non-null  int32  \n",
      " 29  market_segment_type_Online            29999 non-null  int32  \n",
      " 30  booking_status_Not_Canceled           29999 non-null  int32  \n",
      "dtypes: float64(1), int32(17), int64(13)\n",
      "memory usage: 5.1 MB\n"
     ]
    }
   ],
   "execution_count": 144
  },
  {
   "metadata": {
    "ExecuteTime": {
     "end_time": "2025-06-17T08:25:06.526022Z",
     "start_time": "2025-06-17T08:25:06.494339Z"
    }
   },
   "cell_type": "code",
   "source": [
    "meal_cols = [\n",
    "    'type_of_meal_plan_Meal Plan 1',\n",
    "    'type_of_meal_plan_Meal Plan 2',\n",
    "    'type_of_meal_plan_Meal Plan 3'\n",
    "]\n",
    "\n",
    "# Somme sur les colonnes de formules repas\n",
    "df_clean['meal_plan_selected'] = df_clean[meal_cols].sum(axis=1)\n",
    "\n",
    "# Convertir en 0/1 (1 si au moins une formule choisie, 0 sinon)\n",
    "df_clean['meal_plan_selected'] = df_clean['meal_plan_selected'].apply(lambda x: 1 if x > 0 else 0)\n",
    "\n",
    "cols_to_drop = [\n",
    "    'type_of_meal_plan_Meal Plan 1',\n",
    "    'type_of_meal_plan_Meal Plan 2',\n",
    "    'type_of_meal_plan_Meal Plan 3',\n",
    "    'type_of_meal_plan_Not Selected'\n",
    "]\n",
    "\n",
    "df_clean = df_clean.drop(columns=cols_to_drop)"
   ],
   "id": "a3599f44c98d5a1",
   "outputs": [],
   "execution_count": 145
  },
  {
   "metadata": {
    "ExecuteTime": {
     "end_time": "2025-06-17T08:25:06.581584Z",
     "start_time": "2025-06-17T08:25:06.565456Z"
    }
   },
   "cell_type": "code",
   "source": "df_clean.info()",
   "id": "78fc50b85aed274f",
   "outputs": [
    {
     "name": "stdout",
     "output_type": "stream",
     "text": [
      "<class 'pandas.core.frame.DataFrame'>\n",
      "RangeIndex: 29999 entries, 0 to 29998\n",
      "Data columns (total 28 columns):\n",
      " #   Column                                Non-Null Count  Dtype  \n",
      "---  ------                                --------------  -----  \n",
      " 0   no_of_adults                          29999 non-null  int64  \n",
      " 1   no_of_children                        29999 non-null  int64  \n",
      " 2   no_of_weekend_nights                  29999 non-null  int64  \n",
      " 3   no_of_week_nights                     29999 non-null  int64  \n",
      " 4   required_car_parking_space            29999 non-null  int64  \n",
      " 5   lead_time                             29999 non-null  int64  \n",
      " 6   arrival_year                          29999 non-null  int64  \n",
      " 7   arrival_month                         29999 non-null  int64  \n",
      " 8   arrival_date                          29999 non-null  int64  \n",
      " 9   repeated_guest                        29999 non-null  int64  \n",
      " 10  no_of_previous_cancellations          29999 non-null  int64  \n",
      " 11  no_of_previous_bookings_not_canceled  29999 non-null  int64  \n",
      " 12  avg_price_per_room                    29999 non-null  float64\n",
      " 13  no_of_special_requests                29999 non-null  int64  \n",
      " 14  room_type_reserved_Room_Type 1        29999 non-null  int32  \n",
      " 15  room_type_reserved_Room_Type 2        29999 non-null  int32  \n",
      " 16  room_type_reserved_Room_Type 3        29999 non-null  int32  \n",
      " 17  room_type_reserved_Room_Type 4        29999 non-null  int32  \n",
      " 18  room_type_reserved_Room_Type 5        29999 non-null  int32  \n",
      " 19  room_type_reserved_Room_Type 6        29999 non-null  int32  \n",
      " 20  room_type_reserved_Room_Type 7        29999 non-null  int32  \n",
      " 21  market_segment_type_Aviation          29999 non-null  int32  \n",
      " 22  market_segment_type_Complementary     29999 non-null  int32  \n",
      " 23  market_segment_type_Corporate         29999 non-null  int32  \n",
      " 24  market_segment_type_Offline           29999 non-null  int32  \n",
      " 25  market_segment_type_Online            29999 non-null  int32  \n",
      " 26  booking_status_Not_Canceled           29999 non-null  int32  \n",
      " 27  meal_plan_selected                    29999 non-null  int64  \n",
      "dtypes: float64(1), int32(13), int64(14)\n",
      "memory usage: 4.9 MB\n"
     ]
    }
   ],
   "execution_count": 146
  },
  {
   "metadata": {
    "ExecuteTime": {
     "end_time": "2025-06-17T08:25:06.813342Z",
     "start_time": "2025-06-17T08:25:06.602278Z"
    }
   },
   "cell_type": "code",
   "source": [
    "\n",
    "\n",
    "# Supposons que df soit ton DataFrame\n",
    "room_type_cols = [\n",
    "    'room_type_reserved_Room_Type 1',\n",
    "    'room_type_reserved_Room_Type 2',\n",
    "    'room_type_reserved_Room_Type 3',\n",
    "    'room_type_reserved_Room_Type 4',\n",
    "    'room_type_reserved_Room_Type 5',\n",
    "    'room_type_reserved_Room_Type 6',\n",
    "    'room_type_reserved_Room_Type 7'\n",
    "]\n",
    "\n",
    "# Crée une seule colonne avec la valeur correspondant au numéro de type\n",
    "df_clean['room_type_reserved'] = df_clean[room_type_cols].idxmax(axis=1).str.extract(r'Room_Type (\\d)').astype(int)\n",
    "\n",
    "# Supprime les colonnes one-hot originales\n",
    "df_clean.drop(columns=room_type_cols, inplace=True)"
   ],
   "id": "12464d485ad58571",
   "outputs": [],
   "execution_count": 147
  },
  {
   "metadata": {
    "ExecuteTime": {
     "end_time": "2025-06-17T08:25:06.913256Z",
     "start_time": "2025-06-17T08:25:06.898001Z"
    }
   },
   "cell_type": "code",
   "source": "df_clean.info()",
   "id": "22663f52fd2e6f4f",
   "outputs": [
    {
     "name": "stdout",
     "output_type": "stream",
     "text": [
      "<class 'pandas.core.frame.DataFrame'>\n",
      "RangeIndex: 29999 entries, 0 to 29998\n",
      "Data columns (total 22 columns):\n",
      " #   Column                                Non-Null Count  Dtype  \n",
      "---  ------                                --------------  -----  \n",
      " 0   no_of_adults                          29999 non-null  int64  \n",
      " 1   no_of_children                        29999 non-null  int64  \n",
      " 2   no_of_weekend_nights                  29999 non-null  int64  \n",
      " 3   no_of_week_nights                     29999 non-null  int64  \n",
      " 4   required_car_parking_space            29999 non-null  int64  \n",
      " 5   lead_time                             29999 non-null  int64  \n",
      " 6   arrival_year                          29999 non-null  int64  \n",
      " 7   arrival_month                         29999 non-null  int64  \n",
      " 8   arrival_date                          29999 non-null  int64  \n",
      " 9   repeated_guest                        29999 non-null  int64  \n",
      " 10  no_of_previous_cancellations          29999 non-null  int64  \n",
      " 11  no_of_previous_bookings_not_canceled  29999 non-null  int64  \n",
      " 12  avg_price_per_room                    29999 non-null  float64\n",
      " 13  no_of_special_requests                29999 non-null  int64  \n",
      " 14  market_segment_type_Aviation          29999 non-null  int32  \n",
      " 15  market_segment_type_Complementary     29999 non-null  int32  \n",
      " 16  market_segment_type_Corporate         29999 non-null  int32  \n",
      " 17  market_segment_type_Offline           29999 non-null  int32  \n",
      " 18  market_segment_type_Online            29999 non-null  int32  \n",
      " 19  booking_status_Not_Canceled           29999 non-null  int32  \n",
      " 20  meal_plan_selected                    29999 non-null  int64  \n",
      " 21  room_type_reserved                    29999 non-null  int32  \n",
      "dtypes: float64(1), int32(7), int64(14)\n",
      "memory usage: 4.2 MB\n"
     ]
    }
   ],
   "execution_count": 148
  },
  {
   "metadata": {
    "ExecuteTime": {
     "end_time": "2025-06-17T08:25:06.980341Z",
     "start_time": "2025-06-17T08:25:06.963773Z"
    }
   },
   "cell_type": "code",
   "source": [
    "# 1. total_nights\n",
    "df_clean['total_nights'] = df_clean['no_of_week_nights'] + df_clean['no_of_weekend_nights']\n",
    "\n",
    "# 2. total_people\n",
    "df_clean['total_people'] = df_clean['no_of_adults'] + df_clean['no_of_children']\n",
    "\n",
    "# 3. price_per_person avec réaffectation directe\n",
    "df_clean['price_per_person'] = df_clean['avg_price_per_room'] / df_clean['total_people']\n",
    "df_clean['price_per_person'] = df_clean['price_per_person'].replace([np.inf, -np.inf], np.nan)\n",
    "df_clean['price_per_person'] = df_clean['price_per_person'].fillna(df_clean['avg_price_per_room'])\n",
    "\n",
    "# 4. is_family\n",
    "df_clean['is_family'] = (df_clean['no_of_children'] > 0).astype(int)\n",
    "\n",
    "# 5. stay_duration_flag\n",
    "df_clean['stay_duration_flag'] = (df_clean['total_nights'] > 7).astype(int)"
   ],
   "id": "bc8bb87febbe3eca",
   "outputs": [],
   "execution_count": 149
  },
  {
   "metadata": {
    "ExecuteTime": {
     "end_time": "2025-06-17T08:25:07.059356Z",
     "start_time": "2025-06-17T08:25:07.035866Z"
    }
   },
   "cell_type": "code",
   "source": "df_clean.info()",
   "id": "1eb95188d99b09ec",
   "outputs": [
    {
     "name": "stdout",
     "output_type": "stream",
     "text": [
      "<class 'pandas.core.frame.DataFrame'>\n",
      "RangeIndex: 29999 entries, 0 to 29998\n",
      "Data columns (total 27 columns):\n",
      " #   Column                                Non-Null Count  Dtype  \n",
      "---  ------                                --------------  -----  \n",
      " 0   no_of_adults                          29999 non-null  int64  \n",
      " 1   no_of_children                        29999 non-null  int64  \n",
      " 2   no_of_weekend_nights                  29999 non-null  int64  \n",
      " 3   no_of_week_nights                     29999 non-null  int64  \n",
      " 4   required_car_parking_space            29999 non-null  int64  \n",
      " 5   lead_time                             29999 non-null  int64  \n",
      " 6   arrival_year                          29999 non-null  int64  \n",
      " 7   arrival_month                         29999 non-null  int64  \n",
      " 8   arrival_date                          29999 non-null  int64  \n",
      " 9   repeated_guest                        29999 non-null  int64  \n",
      " 10  no_of_previous_cancellations          29999 non-null  int64  \n",
      " 11  no_of_previous_bookings_not_canceled  29999 non-null  int64  \n",
      " 12  avg_price_per_room                    29999 non-null  float64\n",
      " 13  no_of_special_requests                29999 non-null  int64  \n",
      " 14  market_segment_type_Aviation          29999 non-null  int32  \n",
      " 15  market_segment_type_Complementary     29999 non-null  int32  \n",
      " 16  market_segment_type_Corporate         29999 non-null  int32  \n",
      " 17  market_segment_type_Offline           29999 non-null  int32  \n",
      " 18  market_segment_type_Online            29999 non-null  int32  \n",
      " 19  booking_status_Not_Canceled           29999 non-null  int32  \n",
      " 20  meal_plan_selected                    29999 non-null  int64  \n",
      " 21  room_type_reserved                    29999 non-null  int32  \n",
      " 22  total_nights                          29999 non-null  int64  \n",
      " 23  total_people                          29999 non-null  int64  \n",
      " 24  price_per_person                      29999 non-null  float64\n",
      " 25  is_family                             29999 non-null  int32  \n",
      " 26  stay_duration_flag                    29999 non-null  int32  \n",
      "dtypes: float64(2), int32(9), int64(16)\n",
      "memory usage: 5.1 MB\n"
     ]
    }
   ],
   "execution_count": 150
  },
  {
   "metadata": {
    "ExecuteTime": {
     "end_time": "2025-06-17T08:25:07.130429Z",
     "start_time": "2025-06-17T08:25:07.112335Z"
    }
   },
   "cell_type": "code",
   "source": [
    "df_clean['lead_time_category'] = pd.cut(\n",
    "    df_clean['lead_time'],\n",
    "    bins=[-1, 7, 30, 90, 180, 443],\n",
    "    labels=['0-7j', '8-30j', '31-90j', '91-180j', '181j+']\n",
    ")"
   ],
   "id": "7df433f9c3983afb",
   "outputs": [],
   "execution_count": 151
  },
  {
   "metadata": {
    "ExecuteTime": {
     "end_time": "2025-06-17T08:25:07.205749Z",
     "start_time": "2025-06-17T08:25:07.184828Z"
    }
   },
   "cell_type": "code",
   "source": "df_clean.info()",
   "id": "b76fc309c11da563",
   "outputs": [
    {
     "name": "stdout",
     "output_type": "stream",
     "text": [
      "<class 'pandas.core.frame.DataFrame'>\n",
      "RangeIndex: 29999 entries, 0 to 29998\n",
      "Data columns (total 28 columns):\n",
      " #   Column                                Non-Null Count  Dtype   \n",
      "---  ------                                --------------  -----   \n",
      " 0   no_of_adults                          29999 non-null  int64   \n",
      " 1   no_of_children                        29999 non-null  int64   \n",
      " 2   no_of_weekend_nights                  29999 non-null  int64   \n",
      " 3   no_of_week_nights                     29999 non-null  int64   \n",
      " 4   required_car_parking_space            29999 non-null  int64   \n",
      " 5   lead_time                             29999 non-null  int64   \n",
      " 6   arrival_year                          29999 non-null  int64   \n",
      " 7   arrival_month                         29999 non-null  int64   \n",
      " 8   arrival_date                          29999 non-null  int64   \n",
      " 9   repeated_guest                        29999 non-null  int64   \n",
      " 10  no_of_previous_cancellations          29999 non-null  int64   \n",
      " 11  no_of_previous_bookings_not_canceled  29999 non-null  int64   \n",
      " 12  avg_price_per_room                    29999 non-null  float64 \n",
      " 13  no_of_special_requests                29999 non-null  int64   \n",
      " 14  market_segment_type_Aviation          29999 non-null  int32   \n",
      " 15  market_segment_type_Complementary     29999 non-null  int32   \n",
      " 16  market_segment_type_Corporate         29999 non-null  int32   \n",
      " 17  market_segment_type_Offline           29999 non-null  int32   \n",
      " 18  market_segment_type_Online            29999 non-null  int32   \n",
      " 19  booking_status_Not_Canceled           29999 non-null  int32   \n",
      " 20  meal_plan_selected                    29999 non-null  int64   \n",
      " 21  room_type_reserved                    29999 non-null  int32   \n",
      " 22  total_nights                          29999 non-null  int64   \n",
      " 23  total_people                          29999 non-null  int64   \n",
      " 24  price_per_person                      29999 non-null  float64 \n",
      " 25  is_family                             29999 non-null  int32   \n",
      " 26  stay_duration_flag                    29999 non-null  int32   \n",
      " 27  lead_time_category                    29999 non-null  category\n",
      "dtypes: category(1), float64(2), int32(9), int64(16)\n",
      "memory usage: 5.2 MB\n"
     ]
    }
   ],
   "execution_count": 152
  },
  {
   "metadata": {
    "ExecuteTime": {
     "end_time": "2025-06-17T08:25:07.256528Z",
     "start_time": "2025-06-17T08:25:07.236996Z"
    }
   },
   "cell_type": "code",
   "source": "df_clean = pd.get_dummies(df_clean, columns=['lead_time_category'], drop_first=True)",
   "id": "31a418cd678216d3",
   "outputs": [],
   "execution_count": 153
  },
  {
   "metadata": {
    "ExecuteTime": {
     "end_time": "2025-06-17T08:25:07.347963Z",
     "start_time": "2025-06-17T08:25:07.334040Z"
    }
   },
   "cell_type": "code",
   "source": "df_clean.info()",
   "id": "d4056cec4b1a1f10",
   "outputs": [
    {
     "name": "stdout",
     "output_type": "stream",
     "text": [
      "<class 'pandas.core.frame.DataFrame'>\n",
      "RangeIndex: 29999 entries, 0 to 29998\n",
      "Data columns (total 31 columns):\n",
      " #   Column                                Non-Null Count  Dtype  \n",
      "---  ------                                --------------  -----  \n",
      " 0   no_of_adults                          29999 non-null  int64  \n",
      " 1   no_of_children                        29999 non-null  int64  \n",
      " 2   no_of_weekend_nights                  29999 non-null  int64  \n",
      " 3   no_of_week_nights                     29999 non-null  int64  \n",
      " 4   required_car_parking_space            29999 non-null  int64  \n",
      " 5   lead_time                             29999 non-null  int64  \n",
      " 6   arrival_year                          29999 non-null  int64  \n",
      " 7   arrival_month                         29999 non-null  int64  \n",
      " 8   arrival_date                          29999 non-null  int64  \n",
      " 9   repeated_guest                        29999 non-null  int64  \n",
      " 10  no_of_previous_cancellations          29999 non-null  int64  \n",
      " 11  no_of_previous_bookings_not_canceled  29999 non-null  int64  \n",
      " 12  avg_price_per_room                    29999 non-null  float64\n",
      " 13  no_of_special_requests                29999 non-null  int64  \n",
      " 14  market_segment_type_Aviation          29999 non-null  int32  \n",
      " 15  market_segment_type_Complementary     29999 non-null  int32  \n",
      " 16  market_segment_type_Corporate         29999 non-null  int32  \n",
      " 17  market_segment_type_Offline           29999 non-null  int32  \n",
      " 18  market_segment_type_Online            29999 non-null  int32  \n",
      " 19  booking_status_Not_Canceled           29999 non-null  int32  \n",
      " 20  meal_plan_selected                    29999 non-null  int64  \n",
      " 21  room_type_reserved                    29999 non-null  int32  \n",
      " 22  total_nights                          29999 non-null  int64  \n",
      " 23  total_people                          29999 non-null  int64  \n",
      " 24  price_per_person                      29999 non-null  float64\n",
      " 25  is_family                             29999 non-null  int32  \n",
      " 26  stay_duration_flag                    29999 non-null  int32  \n",
      " 27  lead_time_category_8-30j              29999 non-null  bool   \n",
      " 28  lead_time_category_31-90j             29999 non-null  bool   \n",
      " 29  lead_time_category_91-180j            29999 non-null  bool   \n",
      " 30  lead_time_category_181j+              29999 non-null  bool   \n",
      "dtypes: bool(4), float64(2), int32(9), int64(16)\n",
      "memory usage: 5.3 MB\n"
     ]
    }
   ],
   "execution_count": 154
  },
  {
   "metadata": {
    "ExecuteTime": {
     "end_time": "2025-06-17T08:25:07.409908Z",
     "start_time": "2025-06-17T08:25:07.398958Z"
    }
   },
   "cell_type": "code",
   "source": [
    "lead_time_cols = [\n",
    "    'lead_time_category_8-30j',\n",
    "    'lead_time_category_31-90j',\n",
    "    'lead_time_category_91-180j',\n",
    "    'lead_time_category_181j+'\n",
    "]\n",
    "\n",
    "# Conversion de toutes ces colonnes en int (True -> 1, False -> 0)\n",
    "df_clean[lead_time_cols] = df_clean[lead_time_cols].astype(int)\n"
   ],
   "id": "b8680796dc5ccccc",
   "outputs": [],
   "execution_count": 155
  },
  {
   "metadata": {
    "ExecuteTime": {
     "end_time": "2025-06-17T08:25:07.480831Z",
     "start_time": "2025-06-17T08:25:07.461570Z"
    }
   },
   "cell_type": "code",
   "source": "df_clean.info()",
   "id": "fefc9c06df8f22e9",
   "outputs": [
    {
     "name": "stdout",
     "output_type": "stream",
     "text": [
      "<class 'pandas.core.frame.DataFrame'>\n",
      "RangeIndex: 29999 entries, 0 to 29998\n",
      "Data columns (total 31 columns):\n",
      " #   Column                                Non-Null Count  Dtype  \n",
      "---  ------                                --------------  -----  \n",
      " 0   no_of_adults                          29999 non-null  int64  \n",
      " 1   no_of_children                        29999 non-null  int64  \n",
      " 2   no_of_weekend_nights                  29999 non-null  int64  \n",
      " 3   no_of_week_nights                     29999 non-null  int64  \n",
      " 4   required_car_parking_space            29999 non-null  int64  \n",
      " 5   lead_time                             29999 non-null  int64  \n",
      " 6   arrival_year                          29999 non-null  int64  \n",
      " 7   arrival_month                         29999 non-null  int64  \n",
      " 8   arrival_date                          29999 non-null  int64  \n",
      " 9   repeated_guest                        29999 non-null  int64  \n",
      " 10  no_of_previous_cancellations          29999 non-null  int64  \n",
      " 11  no_of_previous_bookings_not_canceled  29999 non-null  int64  \n",
      " 12  avg_price_per_room                    29999 non-null  float64\n",
      " 13  no_of_special_requests                29999 non-null  int64  \n",
      " 14  market_segment_type_Aviation          29999 non-null  int32  \n",
      " 15  market_segment_type_Complementary     29999 non-null  int32  \n",
      " 16  market_segment_type_Corporate         29999 non-null  int32  \n",
      " 17  market_segment_type_Offline           29999 non-null  int32  \n",
      " 18  market_segment_type_Online            29999 non-null  int32  \n",
      " 19  booking_status_Not_Canceled           29999 non-null  int32  \n",
      " 20  meal_plan_selected                    29999 non-null  int64  \n",
      " 21  room_type_reserved                    29999 non-null  int32  \n",
      " 22  total_nights                          29999 non-null  int64  \n",
      " 23  total_people                          29999 non-null  int64  \n",
      " 24  price_per_person                      29999 non-null  float64\n",
      " 25  is_family                             29999 non-null  int32  \n",
      " 26  stay_duration_flag                    29999 non-null  int32  \n",
      " 27  lead_time_category_8-30j              29999 non-null  int32  \n",
      " 28  lead_time_category_31-90j             29999 non-null  int32  \n",
      " 29  lead_time_category_91-180j            29999 non-null  int32  \n",
      " 30  lead_time_category_181j+              29999 non-null  int32  \n",
      "dtypes: float64(2), int32(13), int64(16)\n",
      "memory usage: 5.6 MB\n"
     ]
    }
   ],
   "execution_count": 156
  },
  {
   "metadata": {
    "ExecuteTime": {
     "end_time": "2025-06-17T08:25:07.554692Z",
     "start_time": "2025-06-17T08:25:07.536476Z"
    }
   },
   "cell_type": "code",
   "source": "# df_clean.to_csv(\"../Data/Processed/Hotel Clean Final.csv\", index=False)",
   "id": "f44580b97f2442a2",
   "outputs": [],
   "execution_count": 157
  },
  {
   "metadata": {
    "ExecuteTime": {
     "end_time": "2025-06-17T08:25:07.618829Z",
     "start_time": "2025-06-17T08:25:07.608527Z"
    }
   },
   "cell_type": "code",
   "source": [
    "from sklearn.model_selection import train_test_split\n",
    "\n",
    "# critères de base\n",
    "features = [\n",
    "    'no_of_special_requests', 'price_per_person',\n",
    "    'required_car_parking_space', 'total_nights', 'total_people',\n",
    "    'room_type_reserved', 'repeated_guest', 'no_of_previous_cancellations',\n",
    "    'meal_plan_selected', 'avg_price_per_room',\n",
    "    'market_segment_type_Online', 'is_family', 'stay_duration_flag', 'lead_time_category_181j+', 'lead_time_category_91-180j','lead_time_category_31-90j', 'lead_time_category_8-30j'\n",
    "]\n",
    "x = df_clean[features]\n",
    "# Critère à prédire\n",
    "y = df_clean['booking_status_Not_Canceled']"
   ],
   "id": "3dfd7247d05389ad",
   "outputs": [],
   "execution_count": 158
  },
  {
   "metadata": {
    "ExecuteTime": {
     "end_time": "2025-06-17T08:25:07.682367Z",
     "start_time": "2025-06-17T08:25:07.669209Z"
    }
   },
   "cell_type": "code",
   "source": "x_train, x_test, y_train, y_test = train_test_split(x, y, test_size=0.2, random_state=42)",
   "id": "7d495d97de106799",
   "outputs": [],
   "execution_count": 159
  },
  {
   "metadata": {
    "ExecuteTime": {
     "end_time": "2025-06-17T08:28:08.501620Z",
     "start_time": "2025-06-17T08:25:07.734001Z"
    }
   },
   "cell_type": "code",
   "source": [
    "from sklearn.ensemble import RandomForestClassifier\n",
    "from sklearn.model_selection import RandomizedSearchCV, cross_val_score, train_test_split\n",
    "from sklearn.metrics import accuracy_score, precision_score, recall_score, mean_squared_error, confusion_matrix\n",
    "import matplotlib.pyplot as plt\n",
    "import numpy as np\n",
    "\n",
    "# 1. Définir la grille d'hyperparamètres\n",
    "param_dist_fine = {\n",
    "    'n_estimators': np.arange(150, 301, 25),           # de 150 à 300 par pas de 25\n",
    "    'max_depth': [10, 12, 14, 15, 16, 18, None],       # plusieurs profondeurs + None\n",
    "    'min_samples_split': [2, 3, 4, 5],                  # splits plus fins\n",
    "    'min_samples_leaf': [1, 2, 3],                      # minimum d'échantillons par feuille\n",
    "    'max_features': ['sqrt', 'log2', None],             # essayer aussi None (toutes features)\n",
    "    'bootstrap': [True, False]                           # test avec et sans bootstrap\n",
    "}\n",
    "\n",
    "# 2. Création du modèle de base\n",
    "rf = RandomForestClassifier(random_state=42)\n",
    "\n",
    "# 3. RandomizedSearchCV\n",
    "random_search_fine = RandomizedSearchCV(\n",
    "    estimator=rf,\n",
    "    param_distributions=param_dist_fine,\n",
    "    n_iter=30,            # plus d’itérations pour plus de chance de trouver un bon combo\n",
    "    cv=3,\n",
    "    scoring='accuracy',\n",
    "    verbose=2,\n",
    "    random_state=42,\n",
    "    n_jobs=-1\n",
    ")\n",
    "\n",
    "# 4. Entraînement\n",
    "random_search_fine.fit(x_train, y_train)\n",
    "\n",
    "# 5. Meilleur modèle\n",
    "best_rf = random_search_fine.best_estimator_\n",
    "print('Random Forest Classifier:')\n",
    "print(\"Meilleurs hyperparamètres :\", random_search_fine.best_params_)\n",
    "best_rf = random_search_fine.best_estimator_\n",
    "\n",
    "# 6. Prédictions\n",
    "y_probs = best_rf.predict_proba(x_test)[:, 1]\n",
    "optimal_threshold = 0.6869\n",
    "y_pred_thresh = (y_probs >= optimal_threshold).astype(int) # Seuillage optionnel\n",
    "y_pred = best_rf.predict(x_test)\n",
    "\n",
    "# 7. Évaluation\n",
    "print(\"Accuracy sur les données de test : \", np.round(best_rf.score(x_test, y_test), 2)) # 0.88\n",
    "print(\"Score moyen par validation croisée : \",\n",
    "      np.round(np.mean(cross_val_score(best_rf, x, y, cv=5)), 2)) # 0.88\n",
    "print(\"Précision : \", np.round(precision_score(y_test, y_pred_thresh), 2)) # 0.89\n",
    "print(\"Rappel : \", np.round(recall_score(y_test, y_pred_thresh), 2)) # 0.94\n",
    "print(\"Erreur quadratique moyenne : \", np.round(mean_squared_error(y_test, y_pred_thresh), 4)) # 0.1164\n",
    "print(\"Accuracy (via accuracy_score) : \", np.round(accuracy_score(y_test, y_pred_thresh), 4)) # 0.8836\n",
    "\n",
    "# 8. Matrice de confusion\n",
    "cm = confusion_matrix(y_test, y_pred_thresh)\n",
    "print(\"Matrice de confusion :\\n\", cm)\n",
    "#    [[1560  454]\n",
    "#    [ 234 3661]]\n",
    "\n",
    "# 9. Importance des variables\n",
    "importances = best_rf.feature_importances_\n",
    "features = x_train.columns\n",
    "plt.figure(figsize=(10, 6))\n",
    "plt.barh(features, importances)\n",
    "plt.title(\"Importance des variables (RandomForest)\")\n",
    "plt.xlabel(\"Importance\")\n",
    "plt.ylabel(\"Variables\")\n",
    "plt.tight_layout()\n",
    "plt.show()"
   ],
   "id": "6b1fae7c0bf20dc2",
   "outputs": [
    {
     "name": "stdout",
     "output_type": "stream",
     "text": [
      "Fitting 3 folds for each of 30 candidates, totalling 90 fits\n",
      "Random Forest Classifier:\n",
      "Meilleurs hyperparamètres : {'n_estimators': 300, 'min_samples_split': 3, 'min_samples_leaf': 1, 'max_features': 'sqrt', 'max_depth': 15, 'bootstrap': True}\n",
      "Accuracy sur les données de test :  0.86\n",
      "Score moyen par validation croisée :  0.86\n",
      "Précision :  0.91\n",
      "Rappel :  0.85\n",
      "Erreur quadratique moyenne :  0.1568\n",
      "Accuracy (via accuracy_score) :  0.8432\n",
      "Matrice de confusion :\n",
      " [[1687  330]\n",
      " [ 611 3372]]\n"
     ]
    },
    {
     "data": {
      "text/plain": [
       "<Figure size 1000x600 with 1 Axes>"
      ],
      "image/png": "[encoded data removed]"
     },
     "metadata": {},
     "output_type": "display_data"
    }
   ],
   "execution_count": 160
  },
  {
   "metadata": {
    "ExecuteTime": {
     "end_time": "2025-06-17T08:29:24.068654Z",
     "start_time": "2025-06-17T08:29:23.953198Z"
    }
   },
   "cell_type": "code",
   "source": [
    "# Etape 5 : Exporter le modèle en .pkl (= pickle) pour le réutiliser :\n",
    "\n",
    "import pickle\n",
    "\n",
    "# Utilisation du with pour contextualiser l'opération\n",
    "# Ouvrir/Crééer une file avec pickle en écriture binaire (wb)\n",
    "# et Dump les infos dans la file créée\n",
    "\n",
    "with open('../Models/Hotel_Cancellations_Model_RandomForest.pkl', 'wb') as file:\n",
    "    pickle.dump(random_search_fine, file)"
   ],
   "id": "faf29a2dc89b11d4",
   "outputs": [],
   "execution_count": 162
  }
 ],
 "metadata": {
  "kernelspec": {
   "display_name": "Python 3",
   "language": "python",
   "name": "python3"
  },
  "language_info": {
   "codemirror_mode": {
    "name": "ipython",
    "version": 2
   },
   "file_extension": ".py",
   "mimetype": "text/x-python",
   "name": "python",
   "nbconvert_exporter": "python",
   "pygments_lexer": "ipython2",
   "version": "2.7.6"
  }
 },
 "nbformat": 4,
 "nbformat_minor": 5
}
