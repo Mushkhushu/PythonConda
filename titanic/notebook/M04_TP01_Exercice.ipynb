{
 "cells": [
  {
   "cell_type": "markdown",
   "id": "395d61ec",
   "metadata": {},
   "source": [
    "# TP1 du module 4 : le travail sur les données.\n",
    "\n",
    "Dans ce TP, nous allons explorer plus en détails le jeu de données du Titanic. Objectifs :\n",
    "* Analyser des statistiques pour décrire les données\n",
    "* Produire des visualisations pertinentes pour la compréhesion des données.\n",
    "* Nettoyer le jeu de données\n",
    "* Préparer les données pour qu'elles soient prêtes à être fournies à un algorithme d'apprentissage."
   ]
  },
  {
   "cell_type": "code",
   "execution_count": null,
   "id": "5117092f",
   "metadata": {},
   "outputs": [],
   "source": [
    "# Ajoutez ici les imports de librairies nécessaires\n"
   ]
  },
  {
   "cell_type": "markdown",
   "id": "fde8da96",
   "metadata": {},
   "source": [
    "Commencez par recharger le jeu de données depuis un csv dans un dataframe Pandas. Rappel de l'adresse à laquelle vous pouvez le trouver : https://raw.githubusercontent.com/datasciencedojo/datasets/master/titanic.csv"
   ]
  },
  {
   "cell_type": "code",
   "execution_count": null,
   "id": "33fba6ca",
   "metadata": {},
   "outputs": [],
   "source": []
  },
  {
   "cell_type": "markdown",
   "id": "205f765d",
   "metadata": {},
   "source": [
    "## Exploration du jeu de données\n",
    "\n",
    "Commencez par répondre au question suivante. Prenez le temps de bien analyser vos réponses, afin de mieux vous familiariser avec le contenu du jeu de données.\n",
    "\n",
    "1. Combien de données dans le jeu de données Titanic ?"
   ]
  },
  {
   "cell_type": "code",
   "execution_count": null,
   "id": "4ee3884e",
   "metadata": {},
   "outputs": [],
   "source": []
  },
  {
   "cell_type": "markdown",
   "id": "74f32328",
   "metadata": {},
   "source": [
    "2. Combien d'attributs compte le jeu de données ?"
   ]
  },
  {
   "cell_type": "code",
   "execution_count": null,
   "id": "80eeccc3",
   "metadata": {},
   "outputs": [],
   "source": []
  },
  {
   "cell_type": "markdown",
   "id": "819573a7",
   "metadata": {},
   "source": [
    "3. Identifiez quelles colonnes contiennent des données discrètes, et lesquelles contiennent des données continues."
   ]
  },
  {
   "cell_type": "code",
   "execution_count": null,
   "id": "87aa38a1",
   "metadata": {},
   "outputs": [],
   "source": []
  },
  {
   "cell_type": "markdown",
   "id": "59733c69",
   "metadata": {},
   "source": [
    "4. De la même manière, identifiez les colonnes de données qualitatives, et celles de données quantitatives."
   ]
  },
  {
   "cell_type": "code",
   "execution_count": null,
   "id": "67230396",
   "metadata": {},
   "outputs": [],
   "source": []
  },
  {
   "cell_type": "markdown",
   "id": "69c4bee2",
   "metadata": {},
   "source": [
    "5. Affichez les statistiques de base sur les colonnes quantitatives du dataset. \n",
    "Quelles informations pouvez-vous en retirer ? Pour chaque attribut, cherchez au moins une information pertinente que vous pouvez déduire de vos observations."
   ]
  },
  {
   "cell_type": "code",
   "execution_count": null,
   "id": "82ebfbb6",
   "metadata": {},
   "outputs": [],
   "source": []
  },
  {
   "cell_type": "markdown",
   "id": "46384afa",
   "metadata": {},
   "source": [
    "6. Sur une figure avec 6 sous-figures, proposez un histogramme pour visualiser la répartition des valeurs sur les attributs suivants : Survived, Pclass, Sex, Embarked, Age, Fare. Pour chaque figure, quelle(s) observation(s) pouvez-vous faire ?"
   ]
  },
  {
   "cell_type": "code",
   "execution_count": null,
   "id": "94ddbac5",
   "metadata": {},
   "outputs": [],
   "source": []
  },
  {
   "cell_type": "markdown",
   "id": "620fbbba",
   "metadata": {},
   "source": [
    "7. Sur un même graphique, représentez, pour chaque genre, le nombre de personnes ayant survécu. Que pouvez-vous en déduire ? Le genre d'un passager vous parait-il pertinent pour qu'un modèle d'apprentissage puisse prédire si ce passager a survécu ?"
   ]
  },
  {
   "cell_type": "code",
   "execution_count": null,
   "id": "f58cb499",
   "metadata": {},
   "outputs": [],
   "source": []
  },
  {
   "cell_type": "markdown",
   "id": "412e2e95",
   "metadata": {},
   "source": [
    "8. En vous basant sur une visualisation, observez-vous une corrélation entre certains attributs ? Que pouvez-vous en déduire pour un futur modèle d'apprentissage ?"
   ]
  },
  {
   "cell_type": "code",
   "execution_count": null,
   "id": "48d8ee62",
   "metadata": {},
   "outputs": [],
   "source": []
  },
  {
   "cell_type": "markdown",
   "id": "ae39b80c",
   "metadata": {},
   "source": [
    "9. En vous basant sur vos observations de la visualisation précédente, confirmez vos impressions en proposant deux visualisations. Par exemple, si vous avez observé une corrélation entre un attribut A et un attribut B, mettez en valeur le fait que les mêmes valeurs de A sont souvent trouvées avec les mêmes valeurs de B. "
   ]
  },
  {
   "cell_type": "code",
   "execution_count": null,
   "id": "987a4b5f",
   "metadata": {},
   "outputs": [],
   "source": []
  },
  {
   "cell_type": "code",
   "execution_count": null,
   "id": "9d66606a",
   "metadata": {},
   "outputs": [],
   "source": []
  },
  {
   "cell_type": "markdown",
   "id": "67adc89f",
   "metadata": {},
   "source": [
    "10. Mettez-vous à présent dans le rôle d'un data analyst face à un nouveau jeu de données : quelles autres visualisations vous paraissent nécessaires ? Proposez au moins trois visualisations qui vous semblent pertinentes. Gardez en tête que l'objectif sur ce jeu de données sera de réussir à prédire si un passager à survécu ou non."
   ]
  },
  {
   "cell_type": "markdown",
   "id": "081aafe5",
   "metadata": {},
   "source": [
    "## Nettoyage des données\n",
    "1. Pour chaque colonne, comptez le nombre de valeurs nulles."
   ]
  },
  {
   "cell_type": "code",
   "execution_count": null,
   "id": "ba42c62a",
   "metadata": {},
   "outputs": [],
   "source": []
  },
  {
   "cell_type": "markdown",
   "id": "e5bc166d",
   "metadata": {},
   "source": [
    "### Traitement du port d'embarquement\n",
    "\n",
    "2. Les valeurs manquantes du port d'embarquement sont très peu nombreuses. De plus, s'agissant d'un attribut discret, nous pouvons considérer l'information de valeur nulle comme une valeur possible supplémentaire. Commencer par affichez les lignes pour lesquelles le port d'embarquement n'est pas renseigné."
   ]
  },
  {
   "cell_type": "code",
   "execution_count": null,
   "id": "5219c39a",
   "metadata": {},
   "outputs": [],
   "source": []
  },
  {
   "cell_type": "markdown",
   "id": "363787e8",
   "metadata": {},
   "source": [
    "3. Remplacez ces valeurs nulles par la valeur 'U' (pour unknown). Vérifiez vos résultats en réaffichant les lignes obtenues ci-dessus :"
   ]
  },
  {
   "cell_type": "code",
   "execution_count": null,
   "id": "2be8a958",
   "metadata": {},
   "outputs": [],
   "source": []
  },
  {
   "cell_type": "markdown",
   "id": "a5e22413",
   "metadata": {},
   "source": [
    "### Traitement du numéro de cabine\n",
    "\n",
    "4. Le numéro de cabine est l'attribut qui contient le plus de valeurs nulles. Cet attribut n'a pas de lien évident avec la survie des passagers. Supprimer cette colonne dans votre dataframe."
   ]
  },
  {
   "cell_type": "code",
   "execution_count": null,
   "id": "aef1705c",
   "metadata": {},
   "outputs": [],
   "source": []
  },
  {
   "cell_type": "markdown",
   "id": "112f1631",
   "metadata": {},
   "source": [
    "### Traitement de l'âge\n",
    "5. L'âge est un attribut plus délicat à traiter : il contient un nombre conséquent de valeur nulle, mais il est très pertinent à prendre en compte pour la prédiction de la survie d'un passager, ces deux informations étant assez fortement corrélées. Il existe plein de stratégies pour remplacer ces valeurs manquantes :\n",
    "* Mettre une valeur aléatoire '(tirée entre le min et le max)\n",
    "* Remplacer par la moyenne\n",
    "* Remplacer par une valeur déterminée en fonction des autres paramètres (classe, age, etc)\n",
    "\n",
    "Commencer par calculer pour chaque genre et pour chaque classe, l'âge moyen (6 valeurs à obtenir au total)."
   ]
  },
  {
   "cell_type": "code",
   "execution_count": null,
   "id": "2b2a06ff",
   "metadata": {},
   "outputs": [],
   "source": []
  },
  {
   "cell_type": "markdown",
   "id": "e42013d7",
   "metadata": {},
   "source": [
    "6. Pour chaque ligne du jeu de données, si l'âge est manquant, remplacez la valeur nulle par une des valeurs calculées ci-dessus. basez-vous sur le genre et la classe du passager pour choisir la bonne valeur. "
   ]
  },
  {
   "cell_type": "code",
   "execution_count": null,
   "id": "3daa4cc6",
   "metadata": {},
   "outputs": [],
   "source": []
  },
  {
   "cell_type": "markdown",
   "id": "cf24aa8b",
   "metadata": {},
   "source": [
    "## Préparer les données\n",
    "\n",
    "Nous entrons dans la dernière phase de traitement des données : nous allons terminer des les mettre en forme, pour qu'elles soient prêtes à être manipulées dans un processus d'apprentissage."
   ]
  },
  {
   "cell_type": "markdown",
   "id": "f2ab2605",
   "metadata": {},
   "source": [
    "# Encodage des données catégorielles\n",
    "\n",
    "1. Réaffichez les infos sur le jeu de données. Vous devez avoir 11 colonnes, toutes remplies avec 891 valeurs."
   ]
  },
  {
   "cell_type": "code",
   "execution_count": null,
   "id": "3ac1186f",
   "metadata": {},
   "outputs": [],
   "source": []
  },
  {
   "cell_type": "markdown",
   "id": "a62f568e",
   "metadata": {},
   "source": [
    "2. Trois colonnes sont liées à l'identification unique d'un passager, et ne sont pas pertinentes pour la prédiction de la survie. Supprimez ces trois colonnes de votre jeu de données."
   ]
  },
  {
   "cell_type": "code",
   "execution_count": null,
   "id": "a4b7d99c",
   "metadata": {},
   "outputs": [],
   "source": []
  },
  {
   "cell_type": "markdown",
   "id": "9126e8f9",
   "metadata": {},
   "source": [
    "3. Reproduisez une manipulation vue au module 3 : combinez deux colonnes relatives aux familles de passagers pour n'en faire plus qu'une. Pensez à supprimer les deux anciennes colonnes."
   ]
  },
  {
   "cell_type": "code",
   "execution_count": null,
   "id": "ad70a5d5",
   "metadata": {
    "scrolled": true
   },
   "outputs": [],
   "source": []
  },
  {
   "cell_type": "markdown",
   "id": "a96edd21",
   "metadata": {},
   "source": [
    "4. Parmi les colonnes restantes, sur lesquelles un encodage one-hot vous semble pertinent ? En vous appuyant sur [la documentation de scikit-learn](https://scikit-learn.org/stable/modules/generated/sklearn.preprocessing.OneHotEncoder.html), appliquez cet encodage aux colonnes identifiées. Enfin, pensez à supprimer les anciennes colonnes.\n",
    "\n",
    "Note : pour le genre, il n'y a que deux possibilités dans ce jeu de données. Avec l'option `if_binary` de l'encodeur, vous pouvez ne générer qu'une seule colonne (l'autre s'obtenant immédiatement par déduction)."
   ]
  },
  {
   "cell_type": "code",
   "execution_count": null,
   "id": "1316c770",
   "metadata": {},
   "outputs": [],
   "source": []
  },
  {
   "cell_type": "markdown",
   "id": "439cb51a",
   "metadata": {},
   "source": [
    "5. Vous devez à présent avoir un jeu de données sur 10 attributs, tous numériques (`int64` ou `float64`), sans aucune valeur nulle. Enregistrer ce jeu de données au format csv, afin de pouvoir le réutiliser par la suite. Il est inutile de sauvegarder l'index présent dans le dataframe."
   ]
  },
  {
   "cell_type": "code",
   "execution_count": null,
   "id": "363a15e3",
   "metadata": {},
   "outputs": [],
   "source": []
  },
  {
   "cell_type": "markdown",
   "id": "91ccfd1f",
   "metadata": {},
   "source": [
    "# Fin du TP !"
   ]
  }
 ],
 "metadata": {
  "kernelspec": {
   "display_name": "Python 3 (ipykernel)",
   "language": "python",
   "name": "python3"
  },
  "language_info": {
   "codemirror_mode": {
    "name": "ipython",
    "version": 3
   },
   "file_extension": ".py",
   "mimetype": "text/x-python",
   "name": "python",
   "nbconvert_exporter": "python",
   "pygments_lexer": "ipython3",
   "version": "3.11.7"
  }
 },
 "nbformat": 4,
 "nbformat_minor": 5
}
