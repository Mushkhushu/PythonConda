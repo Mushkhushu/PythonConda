{
 "cells": [
  {
   "metadata": {
    "ExecuteTime": {
     "end_time": "2025-06-16T10:26:43.952319Z",
     "start_time": "2025-06-16T10:26:42.372784Z"
    }
   },
   "cell_type": "code",
   "source": [
    "import sys\n",
    "import os\n",
    "import pandas as pd\n",
    "from sklearn.tree import DecisionTreeClassifier\n",
    "\n",
    "sys.path.append(os.path.abspath(os.path.join(\"..\", \"src\")))\n",
    "\n",
    "df = pd.read_csv('../Data/Processed/hotel_clean.csv')\n",
    "\n",
    "df.info()"
   ],
   "id": "fe914c48a5bb0353",
   "outputs": [
    {
     "name": "stdout",
     "output_type": "stream",
     "text": [
      "<class 'pandas.core.frame.DataFrame'>\n",
      "RangeIndex: 29999 entries, 0 to 29998\n",
      "Data columns (total 31 columns):\n",
      " #   Column                                Non-Null Count  Dtype  \n",
      "---  ------                                --------------  -----  \n",
      " 0   no_of_adults                          29999 non-null  int64  \n",
      " 1   no_of_children                        29999 non-null  int64  \n",
      " 2   no_of_weekend_nights                  29999 non-null  int64  \n",
      " 3   no_of_week_nights                     29999 non-null  int64  \n",
      " 4   required_car_parking_space            29999 non-null  int64  \n",
      " 5   lead_time                             29999 non-null  int64  \n",
      " 6   arrival_year                          29999 non-null  int64  \n",
      " 7   arrival_month                         29999 non-null  int64  \n",
      " 8   arrival_date                          29999 non-null  int64  \n",
      " 9   repeated_guest                        29999 non-null  int64  \n",
      " 10  no_of_previous_cancellations          29999 non-null  int64  \n",
      " 11  no_of_previous_bookings_not_canceled  29999 non-null  int64  \n",
      " 12  avg_price_per_room                    29999 non-null  float64\n",
      " 13  no_of_special_requests                29999 non-null  int64  \n",
      " 14  type_of_meal_plan_Meal Plan 1         29999 non-null  int64  \n",
      " 15  type_of_meal_plan_Meal Plan 2         29999 non-null  int64  \n",
      " 16  type_of_meal_plan_Meal Plan 3         29999 non-null  int64  \n",
      " 17  type_of_meal_plan_Not Selected        29999 non-null  int64  \n",
      " 18  room_type_reserved_Room_Type 1        29999 non-null  int64  \n",
      " 19  room_type_reserved_Room_Type 2        29999 non-null  int64  \n",
      " 20  room_type_reserved_Room_Type 3        29999 non-null  int64  \n",
      " 21  room_type_reserved_Room_Type 4        29999 non-null  int64  \n",
      " 22  room_type_reserved_Room_Type 5        29999 non-null  int64  \n",
      " 23  room_type_reserved_Room_Type 6        29999 non-null  int64  \n",
      " 24  room_type_reserved_Room_Type 7        29999 non-null  int64  \n",
      " 25  market_segment_type_Aviation          29999 non-null  int64  \n",
      " 26  market_segment_type_Complementary     29999 non-null  int64  \n",
      " 27  market_segment_type_Corporate         29999 non-null  int64  \n",
      " 28  market_segment_type_Offline           29999 non-null  int64  \n",
      " 29  market_segment_type_Online            29999 non-null  int64  \n",
      " 30  booking_status_Not_Canceled           29999 non-null  int64  \n",
      "dtypes: float64(1), int64(30)\n",
      "memory usage: 7.1 MB\n"
     ]
    }
   ],
   "execution_count": 1
  },
  {
   "metadata": {
    "collapsed": true,
    "ExecuteTime": {
     "end_time": "2025-06-16T10:26:44.085163Z",
     "start_time": "2025-06-16T10:26:44.073643Z"
    }
   },
   "cell_type": "code",
   "source": "df[df['avg_price_per_room'] == 0.0].shape[0]",
   "id": "initial_id",
   "outputs": [
    {
     "data": {
      "text/plain": [
       "454"
      ]
     },
     "execution_count": 2,
     "metadata": {},
     "output_type": "execute_result"
    }
   ],
   "execution_count": 2
  },
  {
   "metadata": {
    "ExecuteTime": {
     "end_time": "2025-06-16T10:29:32.217969Z",
     "start_time": "2025-06-16T10:29:32.203367Z"
    }
   },
   "cell_type": "code",
   "source": [
    "# Suppression des lignes avec avg_price_per_room = 0.0\n",
    "df = df[df['avg_price_per_room'] > 0.0]\n",
    "print(f\"Nouvelle taille du dataset : {df.shape}\")"
   ],
   "id": "bf38db45be8d990a",
   "outputs": [
    {
     "name": "stdout",
     "output_type": "stream",
     "text": [
      "Nouvelle taille du dataset : (29545, 31)\n"
     ]
    }
   ],
   "execution_count": 3
  },
  {
   "metadata": {
    "ExecuteTime": {
     "end_time": "2025-06-16T10:30:33.163723Z",
     "start_time": "2025-06-16T10:30:32.952954Z"
    }
   },
   "cell_type": "code",
   "source": "df.to_csv(\"../Data/Processed/hotel_clean2.csv\", index=False)",
   "id": "5cd14605cf38017a",
   "outputs": [],
   "execution_count": 4
  }
 ],
 "metadata": {
  "kernelspec": {
   "display_name": "Python [conda env:base] *",
   "language": "python",
   "name": "conda-base-py"
  },
  "language_info": {
   "codemirror_mode": {
    "name": "ipython",
    "version": 2
   },
   "file_extension": ".py",
   "mimetype": "text/x-python",
   "name": "python",
   "nbconvert_exporter": "python",
   "pygments_lexer": "ipython2",
   "version": "2.7.6"
  }
 },
 "nbformat": 4,
 "nbformat_minor": 5
}
