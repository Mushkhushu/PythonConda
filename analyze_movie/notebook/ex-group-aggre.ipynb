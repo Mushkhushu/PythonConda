{
 "cells": [
  {
   "cell_type": "code",
   "id": "initial_id",
   "metadata": {
    "collapsed": true,
    "ExecuteTime": {
     "end_time": "2025-06-11T07:32:13.663018Z",
     "start_time": "2025-06-11T07:32:13.655041Z"
    }
   },
   "source": [
    "import pandas as pd\n",
    "import matplotlib.pyplot as plt\n",
    "import seaborn as sns\n",
    "\n",
    "# Simuler dataframe de 4 genres avec répétition et des releases de films :\n",
    "df = pd.DataFrame({\n",
    "    'Genres' : [\"Aventure\", \"Adventure\", \"Horror\", \"Documentary\"],\n",
    "    'Movies Released' : [26,56,12,37]\n",
    "})\n",
    "# À la main unifier le nombre de films par genre :\n",
    "dico = {}\n",
    "count_max = 0\n",
    "# Itérer chaque colonne :\n",
    "for col in df.columns:\n",
    "    print(f'print de col: {col}')\n",
    "    print(f'print de df[col] : {df[col]}')\n",
    "    # Itérer chaque ligne de chauqe colonne :\n",
    "    for row in df[col]:\n",
    "        print(f'print de row : {row}')\n",
    "        # Si on est dans le genre Adventure\n",
    "        if (col == 'Adventure') :\n",
    "            # Alors on additionne les valeurs de Movies Released\n",
    "            dico['Adventure'] += 1\n",
    "# Afficher le dico récupéré\n",
    "print(f'print de dico : {dico}')\n",
    "# Si on avait notre propre librairie :\n",
    "\n",
    "# En utilisant df.loc\n"
   ],
   "outputs": [
    {
     "name": "stdout",
     "output_type": "stream",
     "text": [
      "print de col: Genres\n",
      "print de df[col] : 0       Aventure\n",
      "1      Adventure\n",
      "2         Horror\n",
      "3    Documentary\n",
      "Name: Genres, dtype: object\n",
      "print de row : Aventure\n",
      "print de row : Adventure\n",
      "print de row : Horror\n",
      "print de row : Documentary\n",
      "print de col: Movies Released\n",
      "print de df[col] : 0    26\n",
      "1    56\n",
      "2    12\n",
      "3    37\n",
      "Name: Movies Released, dtype: int64\n",
      "print de row : 26\n",
      "print de row : 56\n",
      "print de row : 12\n",
      "print de row : 37\n",
      "print de dico : {}\n"
     ]
    }
   ],
   "execution_count": 8
  }
 ],
 "metadata": {
  "kernelspec": {
   "display_name": "Python 3",
   "language": "python",
   "name": "python3"
  },
  "language_info": {
   "codemirror_mode": {
    "name": "ipython",
    "version": 2
   },
   "file_extension": ".py",
   "mimetype": "text/x-python",
   "name": "python",
   "nbconvert_exporter": "python",
   "pygments_lexer": "ipython2",
   "version": "2.7.6"
  }
 },
 "nbformat": 4,
 "nbformat_minor": 5
}
