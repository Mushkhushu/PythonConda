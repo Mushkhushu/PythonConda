{
 "cells": [
  {
   "metadata": {
    "ExecuteTime": {
     "end_time": "2025-06-10T09:24:12.262830Z",
     "start_time": "2025-06-10T09:24:12.258840Z"
    }
   },
   "cell_type": "code",
   "source": "print(\"Hello World !\")",
   "id": "3b8e0217a6805eb3",
   "outputs": [
    {
     "name": "stdout",
     "output_type": "stream",
     "text": [
      "Hello World !\n"
     ]
    }
   ],
   "execution_count": 4
  },
  {
   "metadata": {
    "ExecuteTime": {
     "end_time": "2025-06-10T09:30:30.527598Z",
     "start_time": "2025-06-10T09:30:30.522611Z"
    }
   },
   "cell_type": "code",
   "source": [
    "import numpy as np\n",
    "\n",
    "# Array 1 dimension: inconvénient: dedvoir créer un tableau pour chaque type de données\n",
    "titles = np.array([\"Teletubies\", \"Skarknado\"])\n",
    "genres = np.array([\"Comedy\", \"Nanar\"])\n",
    "durations = np.array([26, 146])\n",
    "\n",
    "# Afficher\n",
    "print(titles)\n",
    "print(genres)\n",
    "\n",
    "# faire des moyennes: afficher la durée la plus longue avec Numpy\n",
    "max_duration = np.max(durations)\n",
    "print(f'Le film le plus long est de: {max_duration} minutes')\n"
   ],
   "id": "initial_id",
   "outputs": [
    {
     "name": "stdout",
     "output_type": "stream",
     "text": [
      "['Teletubies' 'Skarknado']\n",
      "['Comedy' 'Nanar']\n",
      "Le film le plus long est de: 146 minutes\n"
     ]
    }
   ],
   "execution_count": 12
  },
  {
   "metadata": {},
   "cell_type": "code",
   "outputs": [],
   "execution_count": null,
   "source": "",
   "id": "c3bfc96df6f6b1ce"
  }
 ],
 "metadata": {
  "kernelspec": {
   "display_name": "Python 3",
   "language": "python",
   "name": "python3"
  },
  "language_info": {
   "codemirror_mode": {
    "name": "ipython",
    "version": 2
   },
   "file_extension": ".py",
   "mimetype": "text/x-python",
   "name": "python",
   "nbconvert_exporter": "python",
   "pygments_lexer": "ipython2",
   "version": "2.7.6"
  }
 },
 "nbformat": 4,
 "nbformat_minor": 5
}
