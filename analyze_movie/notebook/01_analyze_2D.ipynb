{
 "cells": [
  {
   "metadata": {
    "ExecuteTime": {
     "end_time": "2025-06-10T09:39:24.385322Z",
     "start_time": "2025-06-10T09:39:24.381473Z"
    }
   },
   "cell_type": "code",
   "source": [
    "# Array 2D\n",
    "\n",
    "import numpy as np\n",
    "\n",
    "# faire un array 2D avec numpy pour tout avoir en un seul Array qui contient des arrays\n",
    "# traduction (lire horizontalement):\n",
    "# on doit deviner / présumer  le nom des colonnes un peu, c'est moins lisible\n",
    "#\n",
    "# Columns:  Titles          |   Genres      | Durations\n",
    "# --------------------------------------------------\n",
    "# Ligne0:   Teletubies      |    Comedy     | 26\n",
    "# Ligne1:   Sharknado       |   Nanar       | 146\n",
    "movies_data = np.array([\n",
    "    [\"Teletubies\", \"Skarknado\"],\n",
    "    [\"Comedy\", \"Nanar\"],\n",
    "    [26, 146]\n",
    "])\n",
    "# Afficher\n",
    "\n",
    "\n",
    "# faire des moyennes: afficher la durée la plus longue avec Numpy\n"
   ],
   "id": "initial_id",
   "outputs": [],
   "execution_count": 2
  },
  {
   "metadata": {},
   "cell_type": "code",
   "outputs": [],
   "execution_count": null,
   "source": "",
   "id": "c3bfc96df6f6b1ce"
  }
 ],
 "metadata": {
  "kernelspec": {
   "display_name": "Python 3",
   "language": "python",
   "name": "python3"
  },
  "language_info": {
   "codemirror_mode": {
    "name": "ipython",
    "version": 2
   },
   "file_extension": ".py",
   "mimetype": "text/x-python",
   "name": "python",
   "nbconvert_exporter": "python",
   "pygments_lexer": "ipython2",
   "version": "2.7.6"
  }
 },
 "nbformat": 4,
 "nbformat_minor": 5
}
