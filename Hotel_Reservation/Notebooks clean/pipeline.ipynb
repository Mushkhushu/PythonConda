{
 "cells": [
  {
   "metadata": {
    "ExecuteTime": {
     "end_time": "2025-06-17T10:08:00.926367Z",
     "start_time": "2025-06-17T10:05:34.807151Z"
    }
   },
   "cell_type": "code",
   "source": [
    "# Pour créer et sauvegarder le pipeline\n",
    "exec(open('../exportations/taf.py').read())\n",
    "\n",
    "# Pour utiliser le pipeline sauvegardé plus tard\n",
    "import pickle\n",
    "import pandas as pd\n",
    "\n",
    "# Charger le pipeline\n",
    "with open('../Models/Hotel_Complete_Pipeline.pkl', 'rb') as file:\n",
    "    pipeline = pickle.load(file)\n",
    "\n",
    "# Utiliser sur de nouvelles données\n",
    "nouvelles_donnees = pd.read_csv('../Data/Test/Donnees_test.csv')\n",
    "predictions = pipeline.predict(nouvelles_donnees)\n",
    "probabilities = pipeline.predict_proba(nouvelles_donnees)"
   ],
   "id": "2b967809e5e3a8e3",
   "outputs": [
    {
     "name": "stdout",
     "output_type": "stream",
     "text": [
      "Fitting 3 folds for each of 30 candidates, totalling 90 fits\n",
      "Meilleur score: 0.8584107232154019\n",
      "Prédictions (1 = Not_Canceled, 0 = Canceled): [1 0 1 ... 1 0 1]\n",
      "Probabilités [Canceled, Not_Canceled]: [[0.05367266 0.94632734]\n",
      " [0.76908775 0.23091225]\n",
      " [0.05330118 0.94669882]\n",
      " [0.12411252 0.87588748]\n",
      " [0.0062581  0.9937419 ]]\n"
     ]
    }
   ],
   "execution_count": 13
  }
 ],
 "metadata": {
  "kernelspec": {
   "display_name": "Python 3",
   "language": "python",
   "name": "python3"
  },
  "language_info": {
   "codemirror_mode": {
    "name": "ipython",
    "version": 2
   },
   "file_extension": ".py",
   "mimetype": "text/x-python",
   "name": "python",
   "nbconvert_exporter": "python",
   "pygments_lexer": "ipython2",
   "version": "2.7.6"
  }
 },
 "nbformat": 4,
 "nbformat_minor": 5
}
