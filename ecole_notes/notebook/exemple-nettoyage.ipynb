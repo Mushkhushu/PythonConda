{
 "cells": [
  {
   "cell_type": "code",
   "id": "initial_id",
   "metadata": {
    "collapsed": true,
    "ExecuteTime": {
     "end_time": "2025-06-12T07:51:38.969386Z",
     "start_time": "2025-06-12T07:51:38.954050Z"
    }
   },
   "source": [
    "import pandas as pd\n",
    "\n",
    "# L'une des données est textuelle \"16\"\n",
    "df = pd.DataFrame({\n",
    "    'maths' : [12, 8 , 15],\n",
    "    'francais' : [14, 9 , \"16\"],\n",
    "    'histoire' : [13, 10 , 15],\n",
    "    'bac' : [ 15, 18, 9]\n",
    "})"
   ],
   "outputs": [],
   "execution_count": 3
  },
  {
   "metadata": {},
   "cell_type": "code",
   "outputs": [],
   "execution_count": null,
   "source": "# 3 manières de nettoyer des données",
   "id": "31238a6e03362bbc"
  },
  {
   "metadata": {
    "ExecuteTime": {
     "end_time": "2025-06-12T07:51:40.656639Z",
     "start_time": "2025-06-12T07:51:40.649380Z"
    }
   },
   "cell_type": "code",
   "source": [
    "# 1. Nettoyer un typage incohérent\n",
    "# -> remplacer un typage par un autre (tout en numérique) avec .apply() (retourne un nouveau df):\n",
    "    # .to_numeric: pout tout passer en numérique\n",
    "    # errors='coerce': errors s'il n'arrive pas laisser null (NaN)\n",
    "df_clean = df.apply(pd.to_numeric, errors='coerce')\n",
    "\n",
    "print(df_clean)\n",
    "\n",
    "# Possibilité de viser une colonne spécifique plutôt que de prendre le risque de faire sur tout:\n",
    "    # ajouter la colonne visée en argument:\n",
    "\n",
    "    # et remplacer seulement la colonne voulue dans le nouveau pf déjà généré\n",
    "df_clean = df\n",
    "df_clean['francais'] = pd.to_numeric(df['francais'], errors='coerce')\n",
    "    # ou remplacer directement la colonne voulue dans le pf de base\n",
    "df['francais'] = pd.to_numeric(df['francais'], errors='coerce')"
   ],
   "id": "91be3df0c0fc19dd",
   "outputs": [
    {
     "name": "stdout",
     "output_type": "stream",
     "text": [
      "   maths  francais  histoire  bac\n",
      "0     12        14        13   15\n",
      "1      8         9        10   18\n",
      "2     15        16        15    9\n"
     ]
    }
   ],
   "execution_count": 4
  },
  {
   "metadata": {
    "ExecuteTime": {
     "end_time": "2025-06-12T08:27:33.125097Z",
     "start_time": "2025-06-12T08:27:33.110549Z"
    }
   },
   "cell_type": "code",
   "source": [
    "# 2. Nettoyer une donnée manquante\n",
    "# -> fillna = remplir les données manquantes\n",
    "\n",
    "# L'une des données est manquante, le 15 en histoire\n",
    "df = pd.DataFrame({\n",
    "    'maths' : [12, 8 , 15],\n",
    "    'francais' : [14, 9 , 16],\n",
    "    'histoire' : [13, 10, \"\"],\n",
    "    'bac' : [ 15, 18, 9]\n",
    "})\n",
    "# D'abord tout passer en numérique pour avoir NaN\n",
    "df1 = df.apply(pd.to_numeric, errors='coerce')\n",
    "    # En tant normal, via un .csv par exemple, on aura déjà des NaN, ici c'est parce que c'est fait à la main\n",
    "print(df1)\n",
    "print('------------------------------------')\n",
    "# puis: fillna retourne une copie et a besoin de savoir par quoi on remplace les données nulles, ici 0 :\n",
    "df2 = df\n",
    "df2 =  df2.fillna(0)\n",
    "print(df2)\n",
    "print('------------------------------------')\n",
    "# on tente de mettre la moyenne d'histoire sur la note manquante :\n",
    "# juste pour montrer qu'on peut mettre des calculs dans .fillna()\n",
    "    # d'abord tout avoir en numérique et avoir NaN\n",
    "df3 = df.apply(pd.to_numeric, errors='coerce')\n",
    "    # rempalcer NaN par 0\n",
    "df3['histoire'] = df3['histoire'].fillna(0)\n",
    "print(df3)\n",
    "    # Calculer la moyenne sur les colonnes > 0\n",
    "    # avec .loc pour récupérer des cellules selon condition\n",
    "moyenne = df3.loc[df3['histoire']> 0, 'histoire'].mean()\n",
    "print(f'moyenne des > 0:  {moyenne}')\n",
    "    # Remplacer la note concernée par cette moyenne\n",
    "    # sachant que .loc modifie que les colonnes qui le concernent\n",
    "df3.loc[df3['histoire'] == 0, 'histoire'] = moyenne\n",
    "print(df3)"
   ],
   "id": "3850170bdea550f9",
   "outputs": [
    {
     "name": "stdout",
     "output_type": "stream",
     "text": [
      "   maths  francais  histoire  bac\n",
      "0     12        14      13.0   15\n",
      "1      8         9      10.0   18\n",
      "2     15        16       NaN    9\n",
      "------------------------------------\n",
      "   maths  francais histoire  bac\n",
      "0     12        14       13   15\n",
      "1      8         9       10   18\n",
      "2     15        16             9\n",
      "------------------------------------\n",
      "   maths  francais  histoire  bac\n",
      "0     12        14      13.0   15\n",
      "1      8         9      10.0   18\n",
      "2     15        16       0.0    9\n",
      "moyenne des > 0:  11.5\n",
      "   maths  francais  histoire  bac\n",
      "0     12        14      13.0   15\n",
      "1      8         9      10.0   18\n",
      "2     15        16      11.5    9\n"
     ]
    }
   ],
   "execution_count": 33
  },
  {
   "metadata": {
    "ExecuteTime": {
     "end_time": "2025-06-12T08:27:38.933824Z",
     "start_time": "2025-06-12T08:27:38.922245Z"
    }
   },
   "cell_type": "code",
   "source": [
    "# 3. Renommer une colonne\n",
    "\n",
    "# avec .rename() qui fait une copie aussi\n",
    "df_ren = df.rename(columns={'histoire': 'bidule'})\n",
    "print(df_ren)"
   ],
   "id": "f03cbb8e11ec31d0",
   "outputs": [
    {
     "name": "stdout",
     "output_type": "stream",
     "text": [
      "   maths  francais bidule  bac\n",
      "0     12        14     13   15\n",
      "1      8         9     10   18\n",
      "2     15        16           9\n"
     ]
    }
   ],
   "execution_count": 34
  },
  {
   "metadata": {
    "ExecuteTime": {
     "end_time": "2025-06-12T08:29:13.181117Z",
     "start_time": "2025-06-12T08:29:13.159138Z"
    }
   },
   "cell_type": "code",
   "source": [
    "# 4. Supprimer des lignes nulles\n",
    "\n",
    "# avec .dropna() qui fait une copie aussi, et a besoin de NaN, pas de vide\n",
    "print(df)\n",
    "df_na = df.apply(pd.to_numeric, errors='coerce')\n",
    "print(df_na)\n",
    "df_dr = df_na.dropna()\n",
    "print(df_dr)\n",
    "\n",
    "# on peut forcer de metter un NaN avec \"np.nan\" là où onn souhaite"
   ],
   "id": "e85a828b9fcb046e",
   "outputs": [
    {
     "name": "stdout",
     "output_type": "stream",
     "text": [
      "   maths  francais histoire  bac\n",
      "0     12        14       13   15\n",
      "1      8         9       10   18\n",
      "2     15        16             9\n",
      "   maths  francais  histoire  bac\n",
      "0     12        14      13.0   15\n",
      "1      8         9      10.0   18\n",
      "2     15        16       NaN    9\n",
      "   maths  francais  histoire  bac\n",
      "0     12        14      13.0   15\n",
      "1      8         9      10.0   18\n"
     ]
    }
   ],
   "execution_count": 38
  }
 ],
 "metadata": {
  "kernelspec": {
   "display_name": "Python 3",
   "language": "python",
   "name": "python3"
  },
  "language_info": {
   "codemirror_mode": {
    "name": "ipython",
    "version": 2
   },
   "file_extension": ".py",
   "mimetype": "text/x-python",
   "name": "python",
   "nbconvert_exporter": "python",
   "pygments_lexer": "ipython2",
   "version": "2.7.6"
  }
 },
 "nbformat": 4,
 "nbformat_minor": 5
}
