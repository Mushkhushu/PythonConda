{
 "cells": [
  {
   "cell_type": "code",
   "id": "initial_id",
   "metadata": {
    "collapsed": true,
    "ExecuteTime": {
     "end_time": "2025-06-10T12:43:27.946364Z",
     "start_time": "2025-06-10T12:43:27.940723Z"
    }
   },
   "source": [
    "import pandas as pd\n",
    "\n",
    "# lire le .CSV avec .read_csv('PATH')\n",
    "csv = pd.read_csv('../data/raw/movies.csv')"
   ],
   "outputs": [],
   "execution_count": 55
  },
  {
   "metadata": {
    "ExecuteTime": {
     "end_time": "2025-06-10T12:42:57.637707Z",
     "start_time": "2025-06-10T12:42:57.619229Z"
    }
   },
   "cell_type": "code",
   "source": [
    "# .info() pour avoir les infos concernant les données, les colonnes, les types et la taille totale\n",
    "print('csv.info() : ')\n",
    "csv.info()"
   ],
   "id": "23694c71dbbf5869",
   "outputs": [
    {
     "name": "stdout",
     "output_type": "stream",
     "text": [
      "csv.info() : \n",
      "<class 'pandas.core.frame.DataFrame'>\n",
      "RangeIndex: 20 entries, 0 to 19\n",
      "Data columns (total 6 columns):\n",
      " #   Column    Non-Null Count  Dtype \n",
      "---  ------    --------------  ----- \n",
      " 0   Title     20 non-null     object\n",
      " 1   Genre     20 non-null     object\n",
      " 2   Plot      20 non-null     object\n",
      " 3   Duration  20 non-null     int64 \n",
      " 4   Director  20 non-null     object\n",
      " 5   Year      20 non-null     int64 \n",
      "dtypes: int64(2), object(4)\n",
      "memory usage: 1.1+ KB\n"
     ]
    }
   ],
   "execution_count": 53
  },
  {
   "metadata": {
    "ExecuteTime": {
     "end_time": "2025-06-10T12:43:17.821318Z",
     "start_time": "2025-06-10T12:43:17.809042Z"
    }
   },
   "cell_type": "code",
   "source": [
    "# .describe() pour avoir des moyennes des données numériques\n",
    "print('csv.describe() : ')\n",
    "csv.describe()"
   ],
   "id": "5cc451e506982e27",
   "outputs": [
    {
     "name": "stdout",
     "output_type": "stream",
     "text": [
      "csv.describe() : \n"
     ]
    },
    {
     "data": {
      "text/plain": [
       "         Duration         Year\n",
       "count   20.000000    20.000000\n",
       "mean   103.000000  2000.950000\n",
       "std     23.429626    16.207454\n",
       "min     26.000000  1965.000000\n",
       "25%     95.000000  1995.000000\n",
       "50%    103.500000  1999.000000\n",
       "75%    112.750000  2012.750000\n",
       "max    146.000000  2025.000000"
      ],
      "text/html": [
       "<div>\n",
       "<style scoped>\n",
       "    .dataframe tbody tr th:only-of-type {\n",
       "        vertical-align: middle;\n",
       "    }\n",
       "\n",
       "    .dataframe tbody tr th {\n",
       "        vertical-align: top;\n",
       "    }\n",
       "\n",
       "    .dataframe thead th {\n",
       "        text-align: right;\n",
       "    }\n",
       "</style>\n",
       "<table border=\"1\" class=\"dataframe\">\n",
       "  <thead>\n",
       "    <tr style=\"text-align: right;\">\n",
       "      <th></th>\n",
       "      <th>Duration</th>\n",
       "      <th>Year</th>\n",
       "    </tr>\n",
       "  </thead>\n",
       "  <tbody>\n",
       "    <tr>\n",
       "      <th>count</th>\n",
       "      <td>20.000000</td>\n",
       "      <td>20.000000</td>\n",
       "    </tr>\n",
       "    <tr>\n",
       "      <th>mean</th>\n",
       "      <td>103.000000</td>\n",
       "      <td>2000.950000</td>\n",
       "    </tr>\n",
       "    <tr>\n",
       "      <th>std</th>\n",
       "      <td>23.429626</td>\n",
       "      <td>16.207454</td>\n",
       "    </tr>\n",
       "    <tr>\n",
       "      <th>min</th>\n",
       "      <td>26.000000</td>\n",
       "      <td>1965.000000</td>\n",
       "    </tr>\n",
       "    <tr>\n",
       "      <th>25%</th>\n",
       "      <td>95.000000</td>\n",
       "      <td>1995.000000</td>\n",
       "    </tr>\n",
       "    <tr>\n",
       "      <th>50%</th>\n",
       "      <td>103.500000</td>\n",
       "      <td>1999.000000</td>\n",
       "    </tr>\n",
       "    <tr>\n",
       "      <th>75%</th>\n",
       "      <td>112.750000</td>\n",
       "      <td>2012.750000</td>\n",
       "    </tr>\n",
       "    <tr>\n",
       "      <th>max</th>\n",
       "      <td>146.000000</td>\n",
       "      <td>2025.000000</td>\n",
       "    </tr>\n",
       "  </tbody>\n",
       "</table>\n",
       "</div>"
      ]
     },
     "execution_count": 54,
     "metadata": {},
     "output_type": "execute_result"
    }
   ],
   "execution_count": 54
  },
  {
   "metadata": {
    "ExecuteTime": {
     "end_time": "2025-06-10T12:43:44.986584Z",
     "start_time": "2025-06-10T12:43:44.977501Z"
    }
   },
   "cell_type": "code",
   "source": [
    "# .head() ressort la structure des colonnes, comme un excel en fait (avec les 5 premières infos)\n",
    "print('csv.head() : ')\n",
    "csv.head()"
   ],
   "id": "81db3de129c01fa1",
   "outputs": [
    {
     "name": "stdout",
     "output_type": "stream",
     "text": [
      "csv.head() : \n"
     ]
    },
    {
     "data": {
      "text/plain": [
       "                Title   Genre  \\\n",
       "0          Teletubies  Comedy   \n",
       "1           Sharknado   Nanar   \n",
       "2       Space Zombies  Sci-Fi   \n",
       "3  The Last Pizzaiolo   Drama   \n",
       "4  Ninja Cheerleaders  Action   \n",
       "\n",
       "                                                Plot  Duration     Director  \\\n",
       "0  A group of colorful creatures embark on whimsi...        26  Jean-Michel   \n",
       "1  A freak hurricane swarms sharks upon Los Angel...       146      Jacques   \n",
       "2  In a distant future, astronauts must fight off...       112        Marie   \n",
       "3  In a post-apocalyptic world, a lone pizzaiolo ...       135        Luigi   \n",
       "4  A squad of cheerleaders by day and ninjas by n...        98       Sophie   \n",
       "\n",
       "   Year  \n",
       "0  2012  \n",
       "1  2011  \n",
       "2  1995  \n",
       "3  2015  \n",
       "4  1998  "
      ],
      "text/html": [
       "<div>\n",
       "<style scoped>\n",
       "    .dataframe tbody tr th:only-of-type {\n",
       "        vertical-align: middle;\n",
       "    }\n",
       "\n",
       "    .dataframe tbody tr th {\n",
       "        vertical-align: top;\n",
       "    }\n",
       "\n",
       "    .dataframe thead th {\n",
       "        text-align: right;\n",
       "    }\n",
       "</style>\n",
       "<table border=\"1\" class=\"dataframe\">\n",
       "  <thead>\n",
       "    <tr style=\"text-align: right;\">\n",
       "      <th></th>\n",
       "      <th>Title</th>\n",
       "      <th>Genre</th>\n",
       "      <th>Plot</th>\n",
       "      <th>Duration</th>\n",
       "      <th>Director</th>\n",
       "      <th>Year</th>\n",
       "    </tr>\n",
       "  </thead>\n",
       "  <tbody>\n",
       "    <tr>\n",
       "      <th>0</th>\n",
       "      <td>Teletubies</td>\n",
       "      <td>Comedy</td>\n",
       "      <td>A group of colorful creatures embark on whimsi...</td>\n",
       "      <td>26</td>\n",
       "      <td>Jean-Michel</td>\n",
       "      <td>2012</td>\n",
       "    </tr>\n",
       "    <tr>\n",
       "      <th>1</th>\n",
       "      <td>Sharknado</td>\n",
       "      <td>Nanar</td>\n",
       "      <td>A freak hurricane swarms sharks upon Los Angel...</td>\n",
       "      <td>146</td>\n",
       "      <td>Jacques</td>\n",
       "      <td>2011</td>\n",
       "    </tr>\n",
       "    <tr>\n",
       "      <th>2</th>\n",
       "      <td>Space Zombies</td>\n",
       "      <td>Sci-Fi</td>\n",
       "      <td>In a distant future, astronauts must fight off...</td>\n",
       "      <td>112</td>\n",
       "      <td>Marie</td>\n",
       "      <td>1995</td>\n",
       "    </tr>\n",
       "    <tr>\n",
       "      <th>3</th>\n",
       "      <td>The Last Pizzaiolo</td>\n",
       "      <td>Drama</td>\n",
       "      <td>In a post-apocalyptic world, a lone pizzaiolo ...</td>\n",
       "      <td>135</td>\n",
       "      <td>Luigi</td>\n",
       "      <td>2015</td>\n",
       "    </tr>\n",
       "    <tr>\n",
       "      <th>4</th>\n",
       "      <td>Ninja Cheerleaders</td>\n",
       "      <td>Action</td>\n",
       "      <td>A squad of cheerleaders by day and ninjas by n...</td>\n",
       "      <td>98</td>\n",
       "      <td>Sophie</td>\n",
       "      <td>1998</td>\n",
       "    </tr>\n",
       "  </tbody>\n",
       "</table>\n",
       "</div>"
      ]
     },
     "execution_count": 57,
     "metadata": {},
     "output_type": "execute_result"
    }
   ],
   "execution_count": 57
  },
  {
   "metadata": {
    "ExecuteTime": {
     "end_time": "2025-06-10T12:46:17.874229Z",
     "start_time": "2025-06-10T12:46:17.868416Z"
    }
   },
   "cell_type": "code",
   "source": [
    "# récupérer un .csv avec des séparateurs en poiint-virgules\n",
    "csv2 = pd.read_csv('../data/raw/movie_data.csv', delimiter=';')"
   ],
   "id": "a3e9124956ba333b",
   "outputs": [],
   "execution_count": 58
  },
  {
   "metadata": {
    "ExecuteTime": {
     "end_time": "2025-06-10T12:46:25.598845Z",
     "start_time": "2025-06-10T12:46:25.591422Z"
    }
   },
   "cell_type": "code",
   "source": "csv2.head()",
   "id": "b5d13b7e439dd59a",
   "outputs": [
    {
     "data": {
      "text/plain": [
       "              title        genres  duration\n",
       "0        Teletubies         Nanar        64\n",
       "1         Sharknado         Nanar       189\n",
       "2   Incroyable Bulk    SuperNanar        24\n",
       "3      Velocipastor  Documentaire        96\n",
       "4  Thor le guerrier         Nanar       123"
      ],
      "text/html": [
       "<div>\n",
       "<style scoped>\n",
       "    .dataframe tbody tr th:only-of-type {\n",
       "        vertical-align: middle;\n",
       "    }\n",
       "\n",
       "    .dataframe tbody tr th {\n",
       "        vertical-align: top;\n",
       "    }\n",
       "\n",
       "    .dataframe thead th {\n",
       "        text-align: right;\n",
       "    }\n",
       "</style>\n",
       "<table border=\"1\" class=\"dataframe\">\n",
       "  <thead>\n",
       "    <tr style=\"text-align: right;\">\n",
       "      <th></th>\n",
       "      <th>title</th>\n",
       "      <th>genres</th>\n",
       "      <th>duration</th>\n",
       "    </tr>\n",
       "  </thead>\n",
       "  <tbody>\n",
       "    <tr>\n",
       "      <th>0</th>\n",
       "      <td>Teletubies</td>\n",
       "      <td>Nanar</td>\n",
       "      <td>64</td>\n",
       "    </tr>\n",
       "    <tr>\n",
       "      <th>1</th>\n",
       "      <td>Sharknado</td>\n",
       "      <td>Nanar</td>\n",
       "      <td>189</td>\n",
       "    </tr>\n",
       "    <tr>\n",
       "      <th>2</th>\n",
       "      <td>Incroyable Bulk</td>\n",
       "      <td>SuperNanar</td>\n",
       "      <td>24</td>\n",
       "    </tr>\n",
       "    <tr>\n",
       "      <th>3</th>\n",
       "      <td>Velocipastor</td>\n",
       "      <td>Documentaire</td>\n",
       "      <td>96</td>\n",
       "    </tr>\n",
       "    <tr>\n",
       "      <th>4</th>\n",
       "      <td>Thor le guerrier</td>\n",
       "      <td>Nanar</td>\n",
       "      <td>123</td>\n",
       "    </tr>\n",
       "  </tbody>\n",
       "</table>\n",
       "</div>"
      ]
     },
     "execution_count": 59,
     "metadata": {},
     "output_type": "execute_result"
    }
   ],
   "execution_count": 59
  },
  {
   "metadata": {
    "ExecuteTime": {
     "end_time": "2025-06-10T12:38:56.483479Z",
     "start_time": "2025-06-10T12:38:56.349583Z"
    }
   },
   "cell_type": "code",
   "source": [
    "import matplotlib.pyplot as plt\n",
    "plt.plot(csv['Duration'], csv['Year'], marker='o', color='b', linestyle='dashed')\n",
    "plt.xlabel(\"Duration in minutes\")\n",
    "plt.ylabel(\"Publication Year\")\n"
   ],
   "id": "e53e83e3a3c76801",
   "outputs": [
    {
     "data": {
      "text/plain": [
       "Text(0, 0.5, 'Publication Year')"
      ]
     },
     "execution_count": 43,
     "metadata": {},
     "output_type": "execute_result"
    },
    {
     "data": {
      "text/plain": [
       "<Figure size 640x480 with 1 Axes>"
      ],
      "image/png": "[encoded data removed]"
     },
     "metadata": {},
     "output_type": "display_data"
    }
   ],
   "execution_count": 43
  },
  {
   "metadata": {
    "ExecuteTime": {
     "end_time": "2025-06-10T12:55:21.072669Z",
     "start_time": "2025-06-10T12:55:20.932756Z"
    }
   },
   "cell_type": "code",
   "source": [
    "import seaborn as sns\n",
    "sns.scatterplot(data=csv, x='Duration', y='Year')"
   ],
   "id": "6a8e016e45b63861",
   "outputs": [
    {
     "data": {
      "text/plain": [
       "<Axes: xlabel='Duration', ylabel='Year'>"
      ]
     },
     "execution_count": 66,
     "metadata": {},
     "output_type": "execute_result"
    },
    {
     "data": {
      "text/plain": [
       "<Figure size 640x480 with 1 Axes>"
      ],
      "image/png": "[encoded data removed]"
     },
     "metadata": {},
     "output_type": "display_data"
    }
   ],
   "execution_count": 66
  }
 ],
 "metadata": {
  "kernelspec": {
   "display_name": "Python 3",
   "language": "python",
   "name": "python3"
  },
  "language_info": {
   "codemirror_mode": {
    "name": "ipython",
    "version": 2
   },
   "file_extension": ".py",
   "mimetype": "text/x-python",
   "name": "python",
   "nbconvert_exporter": "python",
   "pygments_lexer": "ipython2",
   "version": "2.7.6"
  }
 },
 "nbformat": 4,
 "nbformat_minor": 5
}
