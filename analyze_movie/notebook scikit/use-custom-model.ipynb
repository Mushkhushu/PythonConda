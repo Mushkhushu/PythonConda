{
 "cells": [
  {
   "cell_type": "code",
   "id": "initial_id",
   "metadata": {
    "collapsed": true,
    "ExecuteTime": {
     "end_time": "2025-06-11T10:19:13.306691Z",
     "start_time": "2025-06-11T10:19:13.132862Z"
    }
   },
   "source": [
    "# Etape 6 : Charger notre modèle custom pour le réutiliser :\n",
    "import pickle\n",
    "import pandas as pd\n",
    "\n",
    "    # Charger notre modèle créé\n",
    "    # utiliser le context manager with\n",
    "    # ouvrir notre modèle en lecture binaire (rb)\n",
    "    # le cahrger avec load()\n",
    "with open('../models/model_predict_bac.pkl', 'rb') as file:\n",
    "    model_note_bac = pickle.load(file)\n",
    "\n",
    "    # Tester avec 1 seul élève, car on prend que 20% de 4 (=1) élèves dans y_test\n",
    "df_un_seul_eleve = pd.DataFrame({\n",
    "    'maths' : [5],\n",
    "    'francais' : [4],\n",
    "    'histoire' : [14]\n",
    "})\n",
    "\n",
    "    # Relancer une prédiction avec le modèle importé\n",
    "prediction_test = model_note_bac.predict(df_un_seul_eleve)\n",
    "\n",
    "    # Afficher\n",
    "print(prediction_test) # [-7.90032576]\n",
    "    # Mais dans les faits le modèle linearRegression n'est pas du tout adapté à ce que l'on veut faire."
   ],
   "outputs": [
    {
     "name": "stdout",
     "output_type": "stream",
     "text": [
      "[-7.90032576]\n"
     ]
    }
   ],
   "execution_count": 1
  }
 ],
 "metadata": {
  "kernelspec": {
   "display_name": "Python 3",
   "language": "python",
   "name": "python3"
  },
  "language_info": {
   "codemirror_mode": {
    "name": "ipython",
    "version": 2
   },
   "file_extension": ".py",
   "mimetype": "text/x-python",
   "name": "python",
   "nbconvert_exporter": "python",
   "pygments_lexer": "ipython2",
   "version": "2.7.6"
  }
 },
 "nbformat": 4,
 "nbformat_minor": 5
}
